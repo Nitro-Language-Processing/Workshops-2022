{
  "nbformat": 4,
  "nbformat_minor": 0,
  "metadata": {
    "colab": {
      "name": "Python Numpy Pandas Matplotlib Workshop.ipynb",
      "provenance": []
    },
    "kernelspec": {
      "name": "python3",
      "display_name": "Python 3"
    },
    "language_info": {
      "name": "python"
    }
  },
  "cells": [
    {
      "cell_type": "markdown",
      "source": [
        "Python"
      ],
      "metadata": {
        "id": "afNHNtvr_Zi_"
      }
    },
    {
      "cell_type": "markdown",
      "source": [
        "Instalare interpretorului pentru Python "
      ],
      "metadata": {
        "id": "t5V2LOjn_7p3"
      }
    },
    {
      "cell_type": "code",
      "source": [
        "# https://realpython.com/courses/installing-python-windows-macos-linux/"
      ],
      "metadata": {
        "id": "ZHObtL-3AIzp"
      },
      "execution_count": 1,
      "outputs": []
    },
    {
      "cell_type": "markdown",
      "source": [
        "Instalarea package manager-ului pip"
      ],
      "metadata": {
        "id": "zaoMy3aHAH7f"
      }
    },
    {
      "cell_type": "code",
      "execution_count": 2,
      "metadata": {
        "id": "RFOsVM7f_TmS"
      },
      "outputs": [],
      "source": [
        "# https://www.techgeekbuzz.com/how-to-install-pip-on-windows-mac-and-linux/"
      ]
    },
    {
      "cell_type": "markdown",
      "source": [
        "Instalare anaconda"
      ],
      "metadata": {
        "id": "WZ-0OXQiAOE9"
      }
    },
    {
      "cell_type": "code",
      "source": [
        "# https://docs.anaconda.com/anaconda/install/index.html"
      ],
      "metadata": {
        "id": "7kbQ_MVzARLv"
      },
      "execution_count": 3,
      "outputs": []
    },
    {
      "cell_type": "markdown",
      "source": [
        "Python limba pur obiectual"
      ],
      "metadata": {
        "id": "x8xc0gBwAUw4"
      }
    },
    {
      "cell_type": "code",
      "source": [
        "# Toate variabilele din Python sunt considerate obiecte\n",
        "my_int = 1\n",
        "my_float = 2.0 \n",
        "my_string = \"my string\"\n",
        "my_bool = True\n",
        "\n",
        "# Fiecare obiect are un tip\n",
        "print(f\"{my_int} - {type(my_int)}\")\n",
        "print(f\"{my_float} - {type(my_float)}\")\n",
        "print(f\"{my_string} - {type(my_string)}\")\n",
        "print(f\"{my_bool} - {type(my_bool)}\")\n",
        "\n",
        "# * litera 'f' inaintea unui string este formateaza acel string si permite scrierea valorilo unui string\n",
        "# spre exemplu: a scrie f\"{a} + {b} = {a + b}\" este echivalent cu a scrie str(a) + \" \" + str(b) + \" = \" + str(a + b)\n",
        "# unde str() converteste variabilele din tipul lor in string "
      ],
      "metadata": {
        "id": "aCBNofpZAa3x",
        "colab": {
          "base_uri": "https://localhost:8080/"
        },
        "outputId": "9171557a-3fde-4852-e11d-9dd0808fe90c"
      },
      "execution_count": 4,
      "outputs": [
        {
          "output_type": "stream",
          "name": "stdout",
          "text": [
            "1 - <class 'int'>\n",
            "2.0 - <class 'float'>\n",
            "my string - <class 'str'>\n",
            "True - <class 'bool'>\n"
          ]
        }
      ]
    },
    {
      "cell_type": "code",
      "source": [
        "# Operatorii din Python sunt similar cu cei din majoritatea limbajelor de programare\n",
        "a = 5 \n",
        "b = 2 \n",
        "\n",
        "print(f\"{a} + {b} = {a + b}\")\n",
        "print(f\"{a} - {b} = {a - b}\")\n",
        "print(f\"{a} * {b} = {a * b}\")\n",
        "print(f\"{a} / {b} = {a / b}\")\n",
        "print(f\"{a} % {b} = {a % b}\")\n",
        "\n",
        "# Extra avem si operatorul // (impartirea intreaga)\n",
        "print(f\"{a} // {b} = {a // b}\")"
      ],
      "metadata": {
        "id": "MwSn0S5dCxbb",
        "colab": {
          "base_uri": "https://localhost:8080/"
        },
        "outputId": "71bcf82d-8560-40fe-9040-7758e6cfebf8"
      },
      "execution_count": 5,
      "outputs": [
        {
          "output_type": "stream",
          "name": "stdout",
          "text": [
            "5 + 2 = 7\n",
            "5 - 2 = 3\n",
            "5 * 2 = 10\n",
            "5 / 2 = 2.5\n",
            "5 % 2 = 1\n",
            "5 // 2 = 2\n"
          ]
        }
      ]
    },
    {
      "cell_type": "code",
      "source": [
        "# Instructiunile in limbajul Python\n",
        "\n",
        "# Decizionale \n",
        "\n",
        "# Cu 2 cazuri - if + (else)\n",
        "\n",
        "if a % 2 == 1:\n",
        "    print(\"Impar!\")\n",
        "else:\n",
        "    print(\"Par\")\n",
        "\n",
        "# Cu mai multe cazuri\n",
        "if a % 3 == 0:\n",
        "    print(\"Restul 0\")\n",
        "elif a % 3 == 1:\n",
        "    print(\"Restul 1\")\n",
        "else:\n",
        "    print(\"Restul 2\")\n",
        "\n",
        "\n",
        "# Repetitive \n",
        "\n",
        "# Cu numar cunoscut de pasi (for)\n",
        "print(\"for loop\")\n",
        "for i in range(4, 10):\n",
        "    print(i)\n",
        "\n",
        "# (*) range are ca parametri start, end si step (step-ul este prestabilit ca 1), prin conventie se itereaza de la start pana la end - 1\n",
        "# start poate fi si mai mare decat end, iar step poate fi si negativ pentru a putea itera descrescator \n",
        "\n",
        "# Cu numar necunoscut de pasi (while)\n",
        "i = 4\n",
        "print(\"while loop\")\n",
        "while i < 10:\n",
        "    print(i)\n",
        "    i += 1\n",
        "\n",
        "# In Python nu avem si instructiunea do ... while, dar aceasta poate fi emulata in urmatoarea structura\n",
        "i = 4 \n",
        "print(\"'do while' loop\")\n",
        "while True:\n",
        "    if i >= 10:\n",
        "        break\n",
        "    print(i)\n",
        "    i += 1"
      ],
      "metadata": {
        "id": "c1LQSZG1JiOL",
        "colab": {
          "base_uri": "https://localhost:8080/"
        },
        "outputId": "a86e4d08-9a97-47e0-b8df-befdc7e9d8e3"
      },
      "execution_count": 6,
      "outputs": [
        {
          "output_type": "stream",
          "name": "stdout",
          "text": [
            "Impar!\n",
            "Restul 2\n",
            "for loop\n",
            "4\n",
            "5\n",
            "6\n",
            "7\n",
            "8\n",
            "9\n",
            "while loop\n",
            "4\n",
            "5\n",
            "6\n",
            "7\n",
            "8\n",
            "9\n",
            "'do while' loop\n",
            "4\n",
            "5\n",
            "6\n",
            "7\n",
            "8\n",
            "9\n"
          ]
        }
      ]
    },
    {
      "cell_type": "code",
      "source": [
        "# Definirea functiilor in Python\n",
        "# Functii care returneaza valori\n",
        "def my_add_fn(a, b):\n",
        "    return a + b\n",
        "\n",
        "# Functii care nu returneaza valori (\"void\")\n",
        "def my_void_fn(a, b):\n",
        "    print(a, b)\n",
        "\n",
        "print(my_add_fn(a, b))\n",
        "my_void_fn(a, b)"
      ],
      "metadata": {
        "id": "BFprPW4ioNVR",
        "colab": {
          "base_uri": "https://localhost:8080/"
        },
        "outputId": "65a74e76-5d0e-47b6-920a-80553824640e"
      },
      "execution_count": 7,
      "outputs": [
        {
          "output_type": "stream",
          "name": "stdout",
          "text": [
            "7\n",
            "5 2\n"
          ]
        }
      ]
    },
    {
      "cell_type": "code",
      "source": [
        "# definirea unei clase in Python\n",
        "class MyClass:\n",
        "    def __init__(self, a, b):\n",
        "        self.a = a\n",
        "        self.b = b\n",
        "    \n",
        "    def my_print_method(self):\n",
        "        print(\"My class method\", self.a, self.b)\n",
        "\n",
        "# instantirea unui obiect din clasa MyClass\n",
        "my_obj = MyClass(4, 5.0)\n",
        "my_obj.my_print_method()\n",
        "\n",
        "print(my_obj)\n",
        "print(type(my_obj))"
      ],
      "metadata": {
        "id": "8B9yibKjojJl",
        "colab": {
          "base_uri": "https://localhost:8080/"
        },
        "outputId": "b753a6a0-74ff-4f2c-e443-7c8982bdef26"
      },
      "execution_count": 8,
      "outputs": [
        {
          "output_type": "stream",
          "name": "stdout",
          "text": [
            "My class method 4 5.0\n",
            "<__main__.MyClass object at 0x7fa1897469d0>\n",
            "<class '__main__.MyClass'>\n"
          ]
        }
      ]
    },
    {
      "cell_type": "code",
      "source": [
        "# mostenirea in Python\n",
        "class MySubClass(MyClass):\n",
        "    def __init__(self, a, b, c, d):\n",
        "        super().__init__(a, b)\n",
        "        self.c = c\n",
        "        self.d = d \n",
        "    \n",
        "    def my_print_method(self):\n",
        "        print(\"My subclass method\", self.a, self.b)\n",
        "\n",
        "my_subobj = MySubClass(1, 2.0, True, \"lorem ipsum\")\n",
        "\n",
        "print(my_obj)\n",
        "print(type(my_subobj))"
      ],
      "metadata": {
        "colab": {
          "base_uri": "https://localhost:8080/"
        },
        "id": "guVAFgYuIxON",
        "outputId": "6ab23109-daae-4325-8bae-816c56eb0efc"
      },
      "execution_count": 9,
      "outputs": [
        {
          "output_type": "stream",
          "name": "stdout",
          "text": [
            "<__main__.MyClass object at 0x7fa1897469d0>\n",
            "<class '__main__.MySubClass'>\n"
          ]
        }
      ]
    },
    {
      "cell_type": "code",
      "source": [
        "# Liste \n",
        "my_list = [1, 2, 3]\n",
        "\n",
        "print(my_list)\n",
        "\n",
        "# adaugarea unui element la final\n",
        "my_list.append(4)\n",
        "\n",
        "print(my_list)\n",
        "\n",
        "# adaugarea unui element la inceput\n",
        "\n",
        "my_list.insert(0, 0)\n",
        "\n",
        "print(my_list)\n",
        "\n",
        "# stergerea unui element \n",
        "\n",
        "my_list.remove(2)\n",
        "\n",
        "# obtinerea indicelui la care se afla un element\n",
        "\n",
        "print(my_list.index(3))\n",
        "\n",
        "# indexarea unei colectii iterabile in Python\n",
        "\n",
        "# accesarea elementelor de pe pozitiile pare\n",
        "print(my_list[0::2])\n",
        "\n",
        "# accesarea elementelor de pe pozitiile impare\n",
        "print(my_list[1::2])\n",
        "\n",
        "# accesarea listei fara ultimul element\n",
        "print(my_list[:-1])\n",
        "\n",
        "# reverse-ul unei liste\n",
        "print(my_list[::-1])\n",
        "\n",
        "\n",
        "# Tupluri\n",
        "my_tup = (1, 2, 3)\n",
        "\n",
        "print(my_tup)\n",
        "print(my_tup[0])\n",
        "\n",
        "# Dicts (dictionare) \n",
        "\n",
        "my_dict = {\"Franta\": \"Paris\", \n",
        "           \"Germania\": \"Berlin\",\n",
        "           \"Spania\": \"Madrid\",\n",
        "           \"Italia\": \"Roma\"}\n",
        "          \n",
        "print(f\"Cheile dictionarului: {my_dict.keys()}\")\n",
        "print(f\"Valorile dictionarului: {my_dict.values()}\")\n",
        "print(f\"Elementele dictionarului: {my_dict.items()}\")\n",
        "\n",
        "# Sets (multimi)\n",
        "my_set = set([1, 2, 3])\n",
        "\n",
        "print(my_set)\n",
        "\n",
        "my_set.add(4) # adaugarea unui element\n",
        "\n",
        "print(my_set)\n",
        "\n",
        "my_set.remove(4) # stergerea unui element\n",
        "\n",
        "print(my_set)\n",
        "\n",
        "my_set.add(1) # adaugarea unui element care exista deja nu va rezulta in nicio modificare\n",
        "\n",
        "print(my_set)\n"
      ],
      "metadata": {
        "colab": {
          "base_uri": "https://localhost:8080/"
        },
        "id": "ig6M0N3rDdfK",
        "outputId": "3e3ae501-5bc6-48ff-c93f-9355981ef9eb"
      },
      "execution_count": 10,
      "outputs": [
        {
          "output_type": "stream",
          "name": "stdout",
          "text": [
            "[1, 2, 3]\n",
            "[1, 2, 3, 4]\n",
            "[0, 1, 2, 3, 4]\n",
            "2\n",
            "[0, 3]\n",
            "[1, 4]\n",
            "[0, 1, 3]\n",
            "[4, 3, 1, 0]\n",
            "(1, 2, 3)\n",
            "1\n",
            "Cheile dictionarului: dict_keys(['Franta', 'Germania', 'Spania', 'Italia'])\n",
            "Valorile dictionarului: dict_values(['Paris', 'Berlin', 'Madrid', 'Roma'])\n",
            "Elementele dictionarului: dict_items([('Franta', 'Paris'), ('Germania', 'Berlin'), ('Spania', 'Madrid'), ('Italia', 'Roma')])\n",
            "{1, 2, 3}\n",
            "{1, 2, 3, 4}\n",
            "{1, 2, 3}\n",
            "{1, 2, 3}\n"
          ]
        }
      ]
    },
    {
      "cell_type": "code",
      "source": [
        "# TODO - de completat partea de Python cu chestii de pe aici - https://fmi-unibuc-ia.github.io/ia/Laboratoare/Introducere-in-python.pdf - de ales din toate cele 11 pagini de aici"
      ],
      "metadata": {
        "id": "Xg6mLsq6G-YI"
      },
      "execution_count": 11,
      "outputs": []
    },
    {
      "cell_type": "code",
      "source": [
        "import this"
      ],
      "metadata": {
        "colab": {
          "base_uri": "https://localhost:8080/"
        },
        "id": "CWYrZrr9D_vK",
        "outputId": "a316c37c-9bbe-4bae-a3f4-5929651b2971"
      },
      "execution_count": 12,
      "outputs": [
        {
          "output_type": "stream",
          "name": "stdout",
          "text": [
            "The Zen of Python, by Tim Peters\n",
            "\n",
            "Beautiful is better than ugly.\n",
            "Explicit is better than implicit.\n",
            "Simple is better than complex.\n",
            "Complex is better than complicated.\n",
            "Flat is better than nested.\n",
            "Sparse is better than dense.\n",
            "Readability counts.\n",
            "Special cases aren't special enough to break the rules.\n",
            "Although practicality beats purity.\n",
            "Errors should never pass silently.\n",
            "Unless explicitly silenced.\n",
            "In the face of ambiguity, refuse the temptation to guess.\n",
            "There should be one-- and preferably only one --obvious way to do it.\n",
            "Although that way may not be obvious at first unless you're Dutch.\n",
            "Now is better than never.\n",
            "Although never is often better than *right* now.\n",
            "If the implementation is hard to explain, it's a bad idea.\n",
            "If the implementation is easy to explain, it may be a good idea.\n",
            "Namespaces are one honking great idea -- let's do more of those!\n"
          ]
        }
      ]
    },
    {
      "cell_type": "code",
      "source": [
        "# Diverse easter eggs in Python\n",
        "\n",
        "# pass\n",
        "def my_fn():\n",
        "    pass \n",
        "    # functioneaza ca placeholder, util pentru atunci cand vrem sa trecem o functie, \n",
        "    # fara sa o definim sau pentru atunci cand nu vrem sa facem nimic cand avem o exceptie prinsa\n",
        "\n",
        "\n",
        "# Guideline pentru cum sa scrii cod in Python\n",
        "import this\n",
        "\n",
        "# Pentru norme detaliate despre cum trebuie scris codul in Python consultati ghidul PEP8: https://peps.python.org/pep-0008/"
      ],
      "metadata": {
        "id": "eGo-q2aNJLMX"
      },
      "execution_count": 13,
      "outputs": []
    },
    {
      "cell_type": "markdown",
      "source": [
        "Numpy"
      ],
      "metadata": {
        "id": "yILFpU1K_ge2"
      }
    },
    {
      "cell_type": "code",
      "source": [
        "# Numpy vine de la \"numerical python\". Este un modul Python folosit pentru calculul optimizat si paralelizarea operatiilor intre numpy array-uri, este scrisa peste limbajul C pentru viteza\n",
        "# O mostenire a limbajului C o reprezinta chiar tipurile date pe care le poate avea un numpy array\n",
        "# TODO - luat cu copy paste exemplele din https://fmi-unibuc-ia.github.io/ia/Laboratoare/Laboratorul%201.pdf de la pagina 1 pana la pagina 6 pentru partea de Numpy"
      ],
      "metadata": {
        "id": "UX0FPejJ_h7R"
      },
      "execution_count": 14,
      "outputs": []
    },
    {
      "cell_type": "markdown",
      "source": [
        "Pandas"
      ],
      "metadata": {
        "id": "Z0jKyBki_iPJ"
      }
    },
    {
      "cell_type": "code",
      "source": [
        "from google.colab import drive\n",
        "drive.mount('/content/gdrive')\n",
        "import os\n",
        "os.listdir()\n",
        "filepath = \"gdrive/MyDrive/beer_profile_and_ratings.csv\""
      ],
      "metadata": {
        "colab": {
          "base_uri": "https://localhost:8080/"
        },
        "id": "55Afx8qlXCjx",
        "outputId": "4c562e77-1d2d-4988-fb38-cdacf629af8e"
      },
      "execution_count": 15,
      "outputs": [
        {
          "output_type": "stream",
          "name": "stdout",
          "text": [
            "Drive already mounted at /content/gdrive; to attempt to forcibly remount, call drive.mount(\"/content/gdrive\", force_remount=True).\n"
          ]
        }
      ]
    },
    {
      "cell_type": "code",
      "source": [
        "# Pandas vine de la \"Python Data Analysis Library\". Este un modul folosit pentru lucrul cu date tabelare. \n",
        "# Obiectul de lucru de data aceasta nu mai este numpy array-ul care poate avea pana la n-dimensiuni, ci dataframe-ul\n",
        "# Dataframe-ul este practic un tabel cu mai multe coloane si randuri. \n",
        "# Vom considera fiecare coloana ca fiind un feature, o trasatura, o caracteristica a datelor cu care lucram, iar fiecare rand/linie din tabel va fi denumit si record sau datapoint\n",
        "\n",
        "# Asemanarea cu Numpy se pastreaza in ceea ce priveste tipurile pe care le pot avea elementele din celule de tabel\n",
        "\n",
        "# Alias-ul de import pentru pandas este \"pd\"\n",
        "import pandas as pd\n",
        "\n",
        "# Citirea unui dataframe \n",
        "df = pd.read_csv(filepath)\n",
        "\n",
        "# Salvare unui dataframe\n",
        "df.to_csv(\"my_dataframe.csv\")\n"
      ],
      "metadata": {
        "id": "nXG8M3Tn_o7v"
      },
      "execution_count": 16,
      "outputs": []
    },
    {
      "cell_type": "code",
      "source": [
        "df.columns"
      ],
      "metadata": {
        "colab": {
          "base_uri": "https://localhost:8080/"
        },
        "id": "exX8jq0UXer7",
        "outputId": "7bcc2917-edf5-40f3-a63b-8538c8e6a4bd"
      },
      "execution_count": 17,
      "outputs": [
        {
          "output_type": "execute_result",
          "data": {
            "text/plain": [
              "Index(['Name', 'Style', 'Brewery', 'Beer Name (Full)', 'Description', 'ABV',\n",
              "       'Min IBU', 'Max IBU', 'Astringency', 'Body', 'Alcohol', 'Bitter',\n",
              "       'Sweet', 'Sour', 'Salty', 'Fruits', 'Hoppy', 'Spices', 'Malty',\n",
              "       'review_aroma', 'review_appearance', 'review_palate', 'review_taste',\n",
              "       'review_overall', 'number_of_reviews'],\n",
              "      dtype='object')"
            ]
          },
          "metadata": {},
          "execution_count": 17
        }
      ]
    },
    {
      "cell_type": "code",
      "source": [
        "# Putem realiza si un summary cu mai multe informatii despre dataframe-ul dat\n",
        "df.describe()"
      ],
      "metadata": {
        "colab": {
          "base_uri": "https://localhost:8080/",
          "height": 364
        },
        "id": "0NgycWKKXgza",
        "outputId": "f75e9d65-fc72-4365-c945-76482ee669ec"
      },
      "execution_count": 18,
      "outputs": [
        {
          "output_type": "execute_result",
          "data": {
            "text/plain": [
              "               ABV      Min IBU      Max IBU  Astringency         Body  \\\n",
              "count  3197.000000  3197.000000  3197.000000  3197.000000  3197.000000   \n",
              "mean      6.526688    21.180482    38.986863    16.515796    46.129496   \n",
              "std       2.546997    13.242242    21.355281    10.410661    25.947842   \n",
              "min       0.000000     0.000000     0.000000     0.000000     0.000000   \n",
              "25%       5.000000    15.000000    25.000000     9.000000    29.000000   \n",
              "50%       6.000000    20.000000    35.000000    14.000000    40.000000   \n",
              "75%       7.600000    25.000000    45.000000    21.000000    58.000000   \n",
              "max      57.500000    65.000000   100.000000    81.000000   175.000000   \n",
              "\n",
              "           Alcohol       Bitter        Sweet         Sour        Salty  \\\n",
              "count  3197.000000  3197.000000  3197.000000  3197.000000  3197.000000   \n",
              "mean     17.055990    36.364404    58.270879    33.145449     1.017204   \n",
              "std      17.331334    25.791152    34.281310    35.780172     2.132651   \n",
              "min       0.000000     0.000000     0.000000     0.000000     0.000000   \n",
              "25%       6.000000    17.000000    33.000000    11.000000     0.000000   \n",
              "50%      11.000000    31.000000    54.000000    22.000000     0.000000   \n",
              "75%      22.000000    52.000000    77.000000    42.000000     1.000000   \n",
              "max     139.000000   150.000000   263.000000   284.000000    48.000000   \n",
              "\n",
              "            Fruits        Hoppy       Spices        Malty  review_aroma  \\\n",
              "count  3197.000000  3197.000000  3197.000000  3197.000000   3197.000000   \n",
              "mean     38.529559    40.924617    18.345637    75.330935      3.638789   \n",
              "std      32.296646    30.403641    23.756582    39.909338      0.503209   \n",
              "min       0.000000     0.000000     0.000000     0.000000      1.509615   \n",
              "25%      12.000000    18.000000     4.000000    45.000000      3.422559   \n",
              "50%      29.000000    33.000000    10.000000    73.000000      3.720183   \n",
              "75%      60.000000    56.000000    23.000000   103.000000      3.978000   \n",
              "max     175.000000   172.000000   184.000000   239.000000      5.000000   \n",
              "\n",
              "       review_appearance  review_palate  review_taste  review_overall  \\\n",
              "count        3197.000000    3197.000000   3197.000000     3197.000000   \n",
              "mean            3.754393       3.660428      3.702496        3.747522   \n",
              "std             0.403416       0.449937      0.510361        0.444288   \n",
              "min             1.571429       1.285714      1.214286        1.136364   \n",
              "25%             3.604651       3.470021      3.500000        3.566667   \n",
              "50%             3.833333       3.741667      3.791667        3.830239   \n",
              "75%             4.000000       3.965587      4.033333        4.032847   \n",
              "max             4.666667       5.000000      5.000000        5.000000   \n",
              "\n",
              "       number_of_reviews  \n",
              "count        3197.000000  \n",
              "mean          233.284955  \n",
              "std           361.811847  \n",
              "min             1.000000  \n",
              "25%            23.000000  \n",
              "50%            93.000000  \n",
              "75%           284.000000  \n",
              "max          3290.000000  "
            ],
            "text/html": [
              "\n",
              "  <div id=\"df-da81bd74-1a58-4870-b125-2f7ab45d100d\">\n",
              "    <div class=\"colab-df-container\">\n",
              "      <div>\n",
              "<style scoped>\n",
              "    .dataframe tbody tr th:only-of-type {\n",
              "        vertical-align: middle;\n",
              "    }\n",
              "\n",
              "    .dataframe tbody tr th {\n",
              "        vertical-align: top;\n",
              "    }\n",
              "\n",
              "    .dataframe thead th {\n",
              "        text-align: right;\n",
              "    }\n",
              "</style>\n",
              "<table border=\"1\" class=\"dataframe\">\n",
              "  <thead>\n",
              "    <tr style=\"text-align: right;\">\n",
              "      <th></th>\n",
              "      <th>ABV</th>\n",
              "      <th>Min IBU</th>\n",
              "      <th>Max IBU</th>\n",
              "      <th>Astringency</th>\n",
              "      <th>Body</th>\n",
              "      <th>Alcohol</th>\n",
              "      <th>Bitter</th>\n",
              "      <th>Sweet</th>\n",
              "      <th>Sour</th>\n",
              "      <th>Salty</th>\n",
              "      <th>Fruits</th>\n",
              "      <th>Hoppy</th>\n",
              "      <th>Spices</th>\n",
              "      <th>Malty</th>\n",
              "      <th>review_aroma</th>\n",
              "      <th>review_appearance</th>\n",
              "      <th>review_palate</th>\n",
              "      <th>review_taste</th>\n",
              "      <th>review_overall</th>\n",
              "      <th>number_of_reviews</th>\n",
              "    </tr>\n",
              "  </thead>\n",
              "  <tbody>\n",
              "    <tr>\n",
              "      <th>count</th>\n",
              "      <td>3197.000000</td>\n",
              "      <td>3197.000000</td>\n",
              "      <td>3197.000000</td>\n",
              "      <td>3197.000000</td>\n",
              "      <td>3197.000000</td>\n",
              "      <td>3197.000000</td>\n",
              "      <td>3197.000000</td>\n",
              "      <td>3197.000000</td>\n",
              "      <td>3197.000000</td>\n",
              "      <td>3197.000000</td>\n",
              "      <td>3197.000000</td>\n",
              "      <td>3197.000000</td>\n",
              "      <td>3197.000000</td>\n",
              "      <td>3197.000000</td>\n",
              "      <td>3197.000000</td>\n",
              "      <td>3197.000000</td>\n",
              "      <td>3197.000000</td>\n",
              "      <td>3197.000000</td>\n",
              "      <td>3197.000000</td>\n",
              "      <td>3197.000000</td>\n",
              "    </tr>\n",
              "    <tr>\n",
              "      <th>mean</th>\n",
              "      <td>6.526688</td>\n",
              "      <td>21.180482</td>\n",
              "      <td>38.986863</td>\n",
              "      <td>16.515796</td>\n",
              "      <td>46.129496</td>\n",
              "      <td>17.055990</td>\n",
              "      <td>36.364404</td>\n",
              "      <td>58.270879</td>\n",
              "      <td>33.145449</td>\n",
              "      <td>1.017204</td>\n",
              "      <td>38.529559</td>\n",
              "      <td>40.924617</td>\n",
              "      <td>18.345637</td>\n",
              "      <td>75.330935</td>\n",
              "      <td>3.638789</td>\n",
              "      <td>3.754393</td>\n",
              "      <td>3.660428</td>\n",
              "      <td>3.702496</td>\n",
              "      <td>3.747522</td>\n",
              "      <td>233.284955</td>\n",
              "    </tr>\n",
              "    <tr>\n",
              "      <th>std</th>\n",
              "      <td>2.546997</td>\n",
              "      <td>13.242242</td>\n",
              "      <td>21.355281</td>\n",
              "      <td>10.410661</td>\n",
              "      <td>25.947842</td>\n",
              "      <td>17.331334</td>\n",
              "      <td>25.791152</td>\n",
              "      <td>34.281310</td>\n",
              "      <td>35.780172</td>\n",
              "      <td>2.132651</td>\n",
              "      <td>32.296646</td>\n",
              "      <td>30.403641</td>\n",
              "      <td>23.756582</td>\n",
              "      <td>39.909338</td>\n",
              "      <td>0.503209</td>\n",
              "      <td>0.403416</td>\n",
              "      <td>0.449937</td>\n",
              "      <td>0.510361</td>\n",
              "      <td>0.444288</td>\n",
              "      <td>361.811847</td>\n",
              "    </tr>\n",
              "    <tr>\n",
              "      <th>min</th>\n",
              "      <td>0.000000</td>\n",
              "      <td>0.000000</td>\n",
              "      <td>0.000000</td>\n",
              "      <td>0.000000</td>\n",
              "      <td>0.000000</td>\n",
              "      <td>0.000000</td>\n",
              "      <td>0.000000</td>\n",
              "      <td>0.000000</td>\n",
              "      <td>0.000000</td>\n",
              "      <td>0.000000</td>\n",
              "      <td>0.000000</td>\n",
              "      <td>0.000000</td>\n",
              "      <td>0.000000</td>\n",
              "      <td>0.000000</td>\n",
              "      <td>1.509615</td>\n",
              "      <td>1.571429</td>\n",
              "      <td>1.285714</td>\n",
              "      <td>1.214286</td>\n",
              "      <td>1.136364</td>\n",
              "      <td>1.000000</td>\n",
              "    </tr>\n",
              "    <tr>\n",
              "      <th>25%</th>\n",
              "      <td>5.000000</td>\n",
              "      <td>15.000000</td>\n",
              "      <td>25.000000</td>\n",
              "      <td>9.000000</td>\n",
              "      <td>29.000000</td>\n",
              "      <td>6.000000</td>\n",
              "      <td>17.000000</td>\n",
              "      <td>33.000000</td>\n",
              "      <td>11.000000</td>\n",
              "      <td>0.000000</td>\n",
              "      <td>12.000000</td>\n",
              "      <td>18.000000</td>\n",
              "      <td>4.000000</td>\n",
              "      <td>45.000000</td>\n",
              "      <td>3.422559</td>\n",
              "      <td>3.604651</td>\n",
              "      <td>3.470021</td>\n",
              "      <td>3.500000</td>\n",
              "      <td>3.566667</td>\n",
              "      <td>23.000000</td>\n",
              "    </tr>\n",
              "    <tr>\n",
              "      <th>50%</th>\n",
              "      <td>6.000000</td>\n",
              "      <td>20.000000</td>\n",
              "      <td>35.000000</td>\n",
              "      <td>14.000000</td>\n",
              "      <td>40.000000</td>\n",
              "      <td>11.000000</td>\n",
              "      <td>31.000000</td>\n",
              "      <td>54.000000</td>\n",
              "      <td>22.000000</td>\n",
              "      <td>0.000000</td>\n",
              "      <td>29.000000</td>\n",
              "      <td>33.000000</td>\n",
              "      <td>10.000000</td>\n",
              "      <td>73.000000</td>\n",
              "      <td>3.720183</td>\n",
              "      <td>3.833333</td>\n",
              "      <td>3.741667</td>\n",
              "      <td>3.791667</td>\n",
              "      <td>3.830239</td>\n",
              "      <td>93.000000</td>\n",
              "    </tr>\n",
              "    <tr>\n",
              "      <th>75%</th>\n",
              "      <td>7.600000</td>\n",
              "      <td>25.000000</td>\n",
              "      <td>45.000000</td>\n",
              "      <td>21.000000</td>\n",
              "      <td>58.000000</td>\n",
              "      <td>22.000000</td>\n",
              "      <td>52.000000</td>\n",
              "      <td>77.000000</td>\n",
              "      <td>42.000000</td>\n",
              "      <td>1.000000</td>\n",
              "      <td>60.000000</td>\n",
              "      <td>56.000000</td>\n",
              "      <td>23.000000</td>\n",
              "      <td>103.000000</td>\n",
              "      <td>3.978000</td>\n",
              "      <td>4.000000</td>\n",
              "      <td>3.965587</td>\n",
              "      <td>4.033333</td>\n",
              "      <td>4.032847</td>\n",
              "      <td>284.000000</td>\n",
              "    </tr>\n",
              "    <tr>\n",
              "      <th>max</th>\n",
              "      <td>57.500000</td>\n",
              "      <td>65.000000</td>\n",
              "      <td>100.000000</td>\n",
              "      <td>81.000000</td>\n",
              "      <td>175.000000</td>\n",
              "      <td>139.000000</td>\n",
              "      <td>150.000000</td>\n",
              "      <td>263.000000</td>\n",
              "      <td>284.000000</td>\n",
              "      <td>48.000000</td>\n",
              "      <td>175.000000</td>\n",
              "      <td>172.000000</td>\n",
              "      <td>184.000000</td>\n",
              "      <td>239.000000</td>\n",
              "      <td>5.000000</td>\n",
              "      <td>4.666667</td>\n",
              "      <td>5.000000</td>\n",
              "      <td>5.000000</td>\n",
              "      <td>5.000000</td>\n",
              "      <td>3290.000000</td>\n",
              "    </tr>\n",
              "  </tbody>\n",
              "</table>\n",
              "</div>\n",
              "      <button class=\"colab-df-convert\" onclick=\"convertToInteractive('df-da81bd74-1a58-4870-b125-2f7ab45d100d')\"\n",
              "              title=\"Convert this dataframe to an interactive table.\"\n",
              "              style=\"display:none;\">\n",
              "        \n",
              "  <svg xmlns=\"http://www.w3.org/2000/svg\" height=\"24px\"viewBox=\"0 0 24 24\"\n",
              "       width=\"24px\">\n",
              "    <path d=\"M0 0h24v24H0V0z\" fill=\"none\"/>\n",
              "    <path d=\"M18.56 5.44l.94 2.06.94-2.06 2.06-.94-2.06-.94-.94-2.06-.94 2.06-2.06.94zm-11 1L8.5 8.5l.94-2.06 2.06-.94-2.06-.94L8.5 2.5l-.94 2.06-2.06.94zm10 10l.94 2.06.94-2.06 2.06-.94-2.06-.94-.94-2.06-.94 2.06-2.06.94z\"/><path d=\"M17.41 7.96l-1.37-1.37c-.4-.4-.92-.59-1.43-.59-.52 0-1.04.2-1.43.59L10.3 9.45l-7.72 7.72c-.78.78-.78 2.05 0 2.83L4 21.41c.39.39.9.59 1.41.59.51 0 1.02-.2 1.41-.59l7.78-7.78 2.81-2.81c.8-.78.8-2.07 0-2.86zM5.41 20L4 18.59l7.72-7.72 1.47 1.35L5.41 20z\"/>\n",
              "  </svg>\n",
              "      </button>\n",
              "      \n",
              "  <style>\n",
              "    .colab-df-container {\n",
              "      display:flex;\n",
              "      flex-wrap:wrap;\n",
              "      gap: 12px;\n",
              "    }\n",
              "\n",
              "    .colab-df-convert {\n",
              "      background-color: #E8F0FE;\n",
              "      border: none;\n",
              "      border-radius: 50%;\n",
              "      cursor: pointer;\n",
              "      display: none;\n",
              "      fill: #1967D2;\n",
              "      height: 32px;\n",
              "      padding: 0 0 0 0;\n",
              "      width: 32px;\n",
              "    }\n",
              "\n",
              "    .colab-df-convert:hover {\n",
              "      background-color: #E2EBFA;\n",
              "      box-shadow: 0px 1px 2px rgba(60, 64, 67, 0.3), 0px 1px 3px 1px rgba(60, 64, 67, 0.15);\n",
              "      fill: #174EA6;\n",
              "    }\n",
              "\n",
              "    [theme=dark] .colab-df-convert {\n",
              "      background-color: #3B4455;\n",
              "      fill: #D2E3FC;\n",
              "    }\n",
              "\n",
              "    [theme=dark] .colab-df-convert:hover {\n",
              "      background-color: #434B5C;\n",
              "      box-shadow: 0px 1px 3px 1px rgba(0, 0, 0, 0.15);\n",
              "      filter: drop-shadow(0px 1px 2px rgba(0, 0, 0, 0.3));\n",
              "      fill: #FFFFFF;\n",
              "    }\n",
              "  </style>\n",
              "\n",
              "      <script>\n",
              "        const buttonEl =\n",
              "          document.querySelector('#df-da81bd74-1a58-4870-b125-2f7ab45d100d button.colab-df-convert');\n",
              "        buttonEl.style.display =\n",
              "          google.colab.kernel.accessAllowed ? 'block' : 'none';\n",
              "\n",
              "        async function convertToInteractive(key) {\n",
              "          const element = document.querySelector('#df-da81bd74-1a58-4870-b125-2f7ab45d100d');\n",
              "          const dataTable =\n",
              "            await google.colab.kernel.invokeFunction('convertToInteractive',\n",
              "                                                     [key], {});\n",
              "          if (!dataTable) return;\n",
              "\n",
              "          const docLinkHtml = 'Like what you see? Visit the ' +\n",
              "            '<a target=\"_blank\" href=https://colab.research.google.com/notebooks/data_table.ipynb>data table notebook</a>'\n",
              "            + ' to learn more about interactive tables.';\n",
              "          element.innerHTML = '';\n",
              "          dataTable['output_type'] = 'display_data';\n",
              "          await google.colab.output.renderOutput(dataTable, element);\n",
              "          const docLink = document.createElement('div');\n",
              "          docLink.innerHTML = docLinkHtml;\n",
              "          element.appendChild(docLink);\n",
              "        }\n",
              "      </script>\n",
              "    </div>\n",
              "  </div>\n",
              "  "
            ]
          },
          "metadata": {},
          "execution_count": 18
        }
      ]
    },
    {
      "cell_type": "code",
      "source": [
        "# Putem vedea primele N linii dintr-un dataframe\n",
        "df.head() # valoarea default pentru numarul de linii afisate este 5"
      ],
      "metadata": {
        "colab": {
          "base_uri": "https://localhost:8080/",
          "height": 630
        },
        "id": "4PikI4-LF92L",
        "outputId": "e844358a-e05f-4400-8264-ba2b79b5f17f"
      },
      "execution_count": 19,
      "outputs": [
        {
          "output_type": "execute_result",
          "data": {
            "text/plain": [
              "                           Name    Style  \\\n",
              "0                         Amber  Altbier   \n",
              "1                    Double Bag  Altbier   \n",
              "2                Long Trail Ale  Altbier   \n",
              "3                  Doppelsticke  Altbier   \n",
              "4  Sleigh'r Dark Doüble Alt Ale  Altbier   \n",
              "\n",
              "                                            Brewery  \\\n",
              "0                               Alaskan Brewing Co.   \n",
              "1                            Long Trail Brewing Co.   \n",
              "2                            Long Trail Brewing Co.   \n",
              "3  Uerige Obergärige Hausbrauerei GmbH / Zum Uerige   \n",
              "4                           Ninkasi Brewing Company   \n",
              "\n",
              "                                    Beer Name (Full)  \\\n",
              "0                  Alaskan Brewing Co. Alaskan Amber   \n",
              "1                  Long Trail Brewing Co. Double Bag   \n",
              "2              Long Trail Brewing Co. Long Trail Ale   \n",
              "3  Uerige Obergärige Hausbrauerei GmbH / Zum Ueri...   \n",
              "4  Ninkasi Brewing Company Sleigh'r Dark Doüble A...   \n",
              "\n",
              "                                         Description  ABV  Min IBU  Max IBU  \\\n",
              "0  Notes:Richly malty and long on the palate, wit...  5.3       25       50   \n",
              "1  Notes:This malty, full-bodied double alt is al...  7.2       25       50   \n",
              "2  Notes:Long Trail Ale is a full-bodied amber al...  5.0       25       50   \n",
              "3                                             Notes:  8.5       25       50   \n",
              "4  Notes:Called 'Dark Double Alt' on the label.Se...  7.2       25       50   \n",
              "\n",
              "   Astringency  Body  ...  Fruits  Hoppy  Spices  Malty  review_aroma  \\\n",
              "0           13    32  ...      33     57       8    111      3.498994   \n",
              "1           12    57  ...      24     35      12     84      3.798337   \n",
              "2           14    37  ...      10     54       4     62      3.409814   \n",
              "3           13    55  ...      49     40      16    119      4.148098   \n",
              "4           25    51  ...      11     51      20     95      3.625000   \n",
              "\n",
              "   review_appearance  review_palate  review_taste  review_overall  \\\n",
              "0           3.636821       3.556338      3.643863        3.847082   \n",
              "1           3.846154       3.904366      4.024948        4.034304   \n",
              "2           3.667109       3.600796      3.631300        3.830239   \n",
              "3           4.033967       4.150815      4.205163        4.005435   \n",
              "4           3.973958       3.734375      3.765625        3.817708   \n",
              "\n",
              "   number_of_reviews  \n",
              "0                497  \n",
              "1                481  \n",
              "2                377  \n",
              "3                368  \n",
              "4                 96  \n",
              "\n",
              "[5 rows x 25 columns]"
            ],
            "text/html": [
              "\n",
              "  <div id=\"df-72c8b1dd-3892-4c00-9a98-59e860a660c4\">\n",
              "    <div class=\"colab-df-container\">\n",
              "      <div>\n",
              "<style scoped>\n",
              "    .dataframe tbody tr th:only-of-type {\n",
              "        vertical-align: middle;\n",
              "    }\n",
              "\n",
              "    .dataframe tbody tr th {\n",
              "        vertical-align: top;\n",
              "    }\n",
              "\n",
              "    .dataframe thead th {\n",
              "        text-align: right;\n",
              "    }\n",
              "</style>\n",
              "<table border=\"1\" class=\"dataframe\">\n",
              "  <thead>\n",
              "    <tr style=\"text-align: right;\">\n",
              "      <th></th>\n",
              "      <th>Name</th>\n",
              "      <th>Style</th>\n",
              "      <th>Brewery</th>\n",
              "      <th>Beer Name (Full)</th>\n",
              "      <th>Description</th>\n",
              "      <th>ABV</th>\n",
              "      <th>Min IBU</th>\n",
              "      <th>Max IBU</th>\n",
              "      <th>Astringency</th>\n",
              "      <th>Body</th>\n",
              "      <th>...</th>\n",
              "      <th>Fruits</th>\n",
              "      <th>Hoppy</th>\n",
              "      <th>Spices</th>\n",
              "      <th>Malty</th>\n",
              "      <th>review_aroma</th>\n",
              "      <th>review_appearance</th>\n",
              "      <th>review_palate</th>\n",
              "      <th>review_taste</th>\n",
              "      <th>review_overall</th>\n",
              "      <th>number_of_reviews</th>\n",
              "    </tr>\n",
              "  </thead>\n",
              "  <tbody>\n",
              "    <tr>\n",
              "      <th>0</th>\n",
              "      <td>Amber</td>\n",
              "      <td>Altbier</td>\n",
              "      <td>Alaskan Brewing Co.</td>\n",
              "      <td>Alaskan Brewing Co. Alaskan Amber</td>\n",
              "      <td>Notes:Richly malty and long on the palate, wit...</td>\n",
              "      <td>5.3</td>\n",
              "      <td>25</td>\n",
              "      <td>50</td>\n",
              "      <td>13</td>\n",
              "      <td>32</td>\n",
              "      <td>...</td>\n",
              "      <td>33</td>\n",
              "      <td>57</td>\n",
              "      <td>8</td>\n",
              "      <td>111</td>\n",
              "      <td>3.498994</td>\n",
              "      <td>3.636821</td>\n",
              "      <td>3.556338</td>\n",
              "      <td>3.643863</td>\n",
              "      <td>3.847082</td>\n",
              "      <td>497</td>\n",
              "    </tr>\n",
              "    <tr>\n",
              "      <th>1</th>\n",
              "      <td>Double Bag</td>\n",
              "      <td>Altbier</td>\n",
              "      <td>Long Trail Brewing Co.</td>\n",
              "      <td>Long Trail Brewing Co. Double Bag</td>\n",
              "      <td>Notes:This malty, full-bodied double alt is al...</td>\n",
              "      <td>7.2</td>\n",
              "      <td>25</td>\n",
              "      <td>50</td>\n",
              "      <td>12</td>\n",
              "      <td>57</td>\n",
              "      <td>...</td>\n",
              "      <td>24</td>\n",
              "      <td>35</td>\n",
              "      <td>12</td>\n",
              "      <td>84</td>\n",
              "      <td>3.798337</td>\n",
              "      <td>3.846154</td>\n",
              "      <td>3.904366</td>\n",
              "      <td>4.024948</td>\n",
              "      <td>4.034304</td>\n",
              "      <td>481</td>\n",
              "    </tr>\n",
              "    <tr>\n",
              "      <th>2</th>\n",
              "      <td>Long Trail Ale</td>\n",
              "      <td>Altbier</td>\n",
              "      <td>Long Trail Brewing Co.</td>\n",
              "      <td>Long Trail Brewing Co. Long Trail Ale</td>\n",
              "      <td>Notes:Long Trail Ale is a full-bodied amber al...</td>\n",
              "      <td>5.0</td>\n",
              "      <td>25</td>\n",
              "      <td>50</td>\n",
              "      <td>14</td>\n",
              "      <td>37</td>\n",
              "      <td>...</td>\n",
              "      <td>10</td>\n",
              "      <td>54</td>\n",
              "      <td>4</td>\n",
              "      <td>62</td>\n",
              "      <td>3.409814</td>\n",
              "      <td>3.667109</td>\n",
              "      <td>3.600796</td>\n",
              "      <td>3.631300</td>\n",
              "      <td>3.830239</td>\n",
              "      <td>377</td>\n",
              "    </tr>\n",
              "    <tr>\n",
              "      <th>3</th>\n",
              "      <td>Doppelsticke</td>\n",
              "      <td>Altbier</td>\n",
              "      <td>Uerige Obergärige Hausbrauerei GmbH / Zum Uerige</td>\n",
              "      <td>Uerige Obergärige Hausbrauerei GmbH / Zum Ueri...</td>\n",
              "      <td>Notes:</td>\n",
              "      <td>8.5</td>\n",
              "      <td>25</td>\n",
              "      <td>50</td>\n",
              "      <td>13</td>\n",
              "      <td>55</td>\n",
              "      <td>...</td>\n",
              "      <td>49</td>\n",
              "      <td>40</td>\n",
              "      <td>16</td>\n",
              "      <td>119</td>\n",
              "      <td>4.148098</td>\n",
              "      <td>4.033967</td>\n",
              "      <td>4.150815</td>\n",
              "      <td>4.205163</td>\n",
              "      <td>4.005435</td>\n",
              "      <td>368</td>\n",
              "    </tr>\n",
              "    <tr>\n",
              "      <th>4</th>\n",
              "      <td>Sleigh'r Dark Doüble Alt Ale</td>\n",
              "      <td>Altbier</td>\n",
              "      <td>Ninkasi Brewing Company</td>\n",
              "      <td>Ninkasi Brewing Company Sleigh'r Dark Doüble A...</td>\n",
              "      <td>Notes:Called 'Dark Double Alt' on the label.Se...</td>\n",
              "      <td>7.2</td>\n",
              "      <td>25</td>\n",
              "      <td>50</td>\n",
              "      <td>25</td>\n",
              "      <td>51</td>\n",
              "      <td>...</td>\n",
              "      <td>11</td>\n",
              "      <td>51</td>\n",
              "      <td>20</td>\n",
              "      <td>95</td>\n",
              "      <td>3.625000</td>\n",
              "      <td>3.973958</td>\n",
              "      <td>3.734375</td>\n",
              "      <td>3.765625</td>\n",
              "      <td>3.817708</td>\n",
              "      <td>96</td>\n",
              "    </tr>\n",
              "  </tbody>\n",
              "</table>\n",
              "<p>5 rows × 25 columns</p>\n",
              "</div>\n",
              "      <button class=\"colab-df-convert\" onclick=\"convertToInteractive('df-72c8b1dd-3892-4c00-9a98-59e860a660c4')\"\n",
              "              title=\"Convert this dataframe to an interactive table.\"\n",
              "              style=\"display:none;\">\n",
              "        \n",
              "  <svg xmlns=\"http://www.w3.org/2000/svg\" height=\"24px\"viewBox=\"0 0 24 24\"\n",
              "       width=\"24px\">\n",
              "    <path d=\"M0 0h24v24H0V0z\" fill=\"none\"/>\n",
              "    <path d=\"M18.56 5.44l.94 2.06.94-2.06 2.06-.94-2.06-.94-.94-2.06-.94 2.06-2.06.94zm-11 1L8.5 8.5l.94-2.06 2.06-.94-2.06-.94L8.5 2.5l-.94 2.06-2.06.94zm10 10l.94 2.06.94-2.06 2.06-.94-2.06-.94-.94-2.06-.94 2.06-2.06.94z\"/><path d=\"M17.41 7.96l-1.37-1.37c-.4-.4-.92-.59-1.43-.59-.52 0-1.04.2-1.43.59L10.3 9.45l-7.72 7.72c-.78.78-.78 2.05 0 2.83L4 21.41c.39.39.9.59 1.41.59.51 0 1.02-.2 1.41-.59l7.78-7.78 2.81-2.81c.8-.78.8-2.07 0-2.86zM5.41 20L4 18.59l7.72-7.72 1.47 1.35L5.41 20z\"/>\n",
              "  </svg>\n",
              "      </button>\n",
              "      \n",
              "  <style>\n",
              "    .colab-df-container {\n",
              "      display:flex;\n",
              "      flex-wrap:wrap;\n",
              "      gap: 12px;\n",
              "    }\n",
              "\n",
              "    .colab-df-convert {\n",
              "      background-color: #E8F0FE;\n",
              "      border: none;\n",
              "      border-radius: 50%;\n",
              "      cursor: pointer;\n",
              "      display: none;\n",
              "      fill: #1967D2;\n",
              "      height: 32px;\n",
              "      padding: 0 0 0 0;\n",
              "      width: 32px;\n",
              "    }\n",
              "\n",
              "    .colab-df-convert:hover {\n",
              "      background-color: #E2EBFA;\n",
              "      box-shadow: 0px 1px 2px rgba(60, 64, 67, 0.3), 0px 1px 3px 1px rgba(60, 64, 67, 0.15);\n",
              "      fill: #174EA6;\n",
              "    }\n",
              "\n",
              "    [theme=dark] .colab-df-convert {\n",
              "      background-color: #3B4455;\n",
              "      fill: #D2E3FC;\n",
              "    }\n",
              "\n",
              "    [theme=dark] .colab-df-convert:hover {\n",
              "      background-color: #434B5C;\n",
              "      box-shadow: 0px 1px 3px 1px rgba(0, 0, 0, 0.15);\n",
              "      filter: drop-shadow(0px 1px 2px rgba(0, 0, 0, 0.3));\n",
              "      fill: #FFFFFF;\n",
              "    }\n",
              "  </style>\n",
              "\n",
              "      <script>\n",
              "        const buttonEl =\n",
              "          document.querySelector('#df-72c8b1dd-3892-4c00-9a98-59e860a660c4 button.colab-df-convert');\n",
              "        buttonEl.style.display =\n",
              "          google.colab.kernel.accessAllowed ? 'block' : 'none';\n",
              "\n",
              "        async function convertToInteractive(key) {\n",
              "          const element = document.querySelector('#df-72c8b1dd-3892-4c00-9a98-59e860a660c4');\n",
              "          const dataTable =\n",
              "            await google.colab.kernel.invokeFunction('convertToInteractive',\n",
              "                                                     [key], {});\n",
              "          if (!dataTable) return;\n",
              "\n",
              "          const docLinkHtml = 'Like what you see? Visit the ' +\n",
              "            '<a target=\"_blank\" href=https://colab.research.google.com/notebooks/data_table.ipynb>data table notebook</a>'\n",
              "            + ' to learn more about interactive tables.';\n",
              "          element.innerHTML = '';\n",
              "          dataTable['output_type'] = 'display_data';\n",
              "          await google.colab.output.renderOutput(dataTable, element);\n",
              "          const docLink = document.createElement('div');\n",
              "          docLink.innerHTML = docLinkHtml;\n",
              "          element.appendChild(docLink);\n",
              "        }\n",
              "      </script>\n",
              "    </div>\n",
              "  </div>\n",
              "  "
            ]
          },
          "metadata": {},
          "execution_count": 19
        }
      ]
    },
    {
      "cell_type": "code",
      "source": [
        "# Similar putem vedea si ultimele N linii dintr-un dataframe\n",
        "df.tail() # valoarea default pentru numarul de linii afisate este 5"
      ],
      "metadata": {
        "colab": {
          "base_uri": "https://localhost:8080/",
          "height": 803
        },
        "id": "YVmyYQ4gF_Dt",
        "outputId": "9f274e78-8aa5-49dc-9f3a-35cf41d1d61a"
      },
      "execution_count": 20,
      "outputs": [
        {
          "output_type": "execute_result",
          "data": {
            "text/plain": [
              "                                          Name          Style  \\\n",
              "3192                           Winter Shredder  Winter Warmer   \n",
              "3193                        The First Snow Ale  Winter Warmer   \n",
              "3194                       Red Nose Winter Ale  Winter Warmer   \n",
              "3195                      Fish Tale Winterfish  Winter Warmer   \n",
              "3196  Frosted Frog Christmas Ale - Barrel-Aged  Winter Warmer   \n",
              "\n",
              "                                      Brewery  \\\n",
              "3192                       Cisco Brewers Inc.   \n",
              "3193               RJ Rockers Brewing Company   \n",
              "3194         Natty Greene's Pub & Brewing Co.   \n",
              "3195  Fish Brewing Company / Fishbowl Brewpub   \n",
              "3196                     Hoppin' Frog Brewery   \n",
              "\n",
              "                                       Beer Name (Full)  \\\n",
              "3192                 Cisco Brewers Inc. Winter Shredder   \n",
              "3193          RJ Rockers Brewing Company First Snow Ale   \n",
              "3194  Natty Greene's Pub & Brewing Co. Red Nose Wint...   \n",
              "3195  Fish Brewing Company / Fishbowl Brewpub Fish T...   \n",
              "3196  Hoppin' Frog Brewery Barrel Aged Frosted Frog ...   \n",
              "\n",
              "                                            Description  ABV  Min IBU  \\\n",
              "3192                                             Notes:  8.8       35   \n",
              "3193  Notes:This hearty American pale ale contains a...  6.0       35   \n",
              "3194                                             Notes:  6.8       35   \n",
              "3195                                             Notes:  7.5       35   \n",
              "3196  Notes:The essence of Christmas is captured in ...  8.6       35   \n",
              "\n",
              "      Max IBU  Astringency  Body  ...  Fruits  Hoppy  Spices  Malty  \\\n",
              "3192       50           15    37  ...      23     45      67     74   \n",
              "3193       50           15    31  ...      54     14     140     58   \n",
              "3194       50            8    44  ...      26     21      96     77   \n",
              "3195       50           11    36  ...      81    110      18     73   \n",
              "3196       50            8    50  ...      33     16     148     69   \n",
              "\n",
              "      review_aroma  review_appearance  review_palate  review_taste  \\\n",
              "3192      4.125000           3.875000       3.875000      3.750000   \n",
              "3193      3.950000           3.750000       3.760000      3.790000   \n",
              "3194      3.576923           3.711538       3.596154      3.673077   \n",
              "3195      3.902299           3.885057       3.862069      3.902299   \n",
              "3196      3.888889           3.694444       3.833333      3.555556   \n",
              "\n",
              "      review_overall  number_of_reviews  \n",
              "3192        4.000000                  4  \n",
              "3193        3.730000                 50  \n",
              "3194        3.711538                 26  \n",
              "3195        3.879310                 87  \n",
              "3196        3.527778                 18  \n",
              "\n",
              "[5 rows x 25 columns]"
            ],
            "text/html": [
              "\n",
              "  <div id=\"df-95160d89-8437-482b-aa83-006fae7925ce\">\n",
              "    <div class=\"colab-df-container\">\n",
              "      <div>\n",
              "<style scoped>\n",
              "    .dataframe tbody tr th:only-of-type {\n",
              "        vertical-align: middle;\n",
              "    }\n",
              "\n",
              "    .dataframe tbody tr th {\n",
              "        vertical-align: top;\n",
              "    }\n",
              "\n",
              "    .dataframe thead th {\n",
              "        text-align: right;\n",
              "    }\n",
              "</style>\n",
              "<table border=\"1\" class=\"dataframe\">\n",
              "  <thead>\n",
              "    <tr style=\"text-align: right;\">\n",
              "      <th></th>\n",
              "      <th>Name</th>\n",
              "      <th>Style</th>\n",
              "      <th>Brewery</th>\n",
              "      <th>Beer Name (Full)</th>\n",
              "      <th>Description</th>\n",
              "      <th>ABV</th>\n",
              "      <th>Min IBU</th>\n",
              "      <th>Max IBU</th>\n",
              "      <th>Astringency</th>\n",
              "      <th>Body</th>\n",
              "      <th>...</th>\n",
              "      <th>Fruits</th>\n",
              "      <th>Hoppy</th>\n",
              "      <th>Spices</th>\n",
              "      <th>Malty</th>\n",
              "      <th>review_aroma</th>\n",
              "      <th>review_appearance</th>\n",
              "      <th>review_palate</th>\n",
              "      <th>review_taste</th>\n",
              "      <th>review_overall</th>\n",
              "      <th>number_of_reviews</th>\n",
              "    </tr>\n",
              "  </thead>\n",
              "  <tbody>\n",
              "    <tr>\n",
              "      <th>3192</th>\n",
              "      <td>Winter Shredder</td>\n",
              "      <td>Winter Warmer</td>\n",
              "      <td>Cisco Brewers Inc.</td>\n",
              "      <td>Cisco Brewers Inc. Winter Shredder</td>\n",
              "      <td>Notes:</td>\n",
              "      <td>8.8</td>\n",
              "      <td>35</td>\n",
              "      <td>50</td>\n",
              "      <td>15</td>\n",
              "      <td>37</td>\n",
              "      <td>...</td>\n",
              "      <td>23</td>\n",
              "      <td>45</td>\n",
              "      <td>67</td>\n",
              "      <td>74</td>\n",
              "      <td>4.125000</td>\n",
              "      <td>3.875000</td>\n",
              "      <td>3.875000</td>\n",
              "      <td>3.750000</td>\n",
              "      <td>4.000000</td>\n",
              "      <td>4</td>\n",
              "    </tr>\n",
              "    <tr>\n",
              "      <th>3193</th>\n",
              "      <td>The First Snow Ale</td>\n",
              "      <td>Winter Warmer</td>\n",
              "      <td>RJ Rockers Brewing Company</td>\n",
              "      <td>RJ Rockers Brewing Company First Snow Ale</td>\n",
              "      <td>Notes:This hearty American pale ale contains a...</td>\n",
              "      <td>6.0</td>\n",
              "      <td>35</td>\n",
              "      <td>50</td>\n",
              "      <td>15</td>\n",
              "      <td>31</td>\n",
              "      <td>...</td>\n",
              "      <td>54</td>\n",
              "      <td>14</td>\n",
              "      <td>140</td>\n",
              "      <td>58</td>\n",
              "      <td>3.950000</td>\n",
              "      <td>3.750000</td>\n",
              "      <td>3.760000</td>\n",
              "      <td>3.790000</td>\n",
              "      <td>3.730000</td>\n",
              "      <td>50</td>\n",
              "    </tr>\n",
              "    <tr>\n",
              "      <th>3194</th>\n",
              "      <td>Red Nose Winter Ale</td>\n",
              "      <td>Winter Warmer</td>\n",
              "      <td>Natty Greene's Pub &amp; Brewing Co.</td>\n",
              "      <td>Natty Greene's Pub &amp; Brewing Co. Red Nose Wint...</td>\n",
              "      <td>Notes:</td>\n",
              "      <td>6.8</td>\n",
              "      <td>35</td>\n",
              "      <td>50</td>\n",
              "      <td>8</td>\n",
              "      <td>44</td>\n",
              "      <td>...</td>\n",
              "      <td>26</td>\n",
              "      <td>21</td>\n",
              "      <td>96</td>\n",
              "      <td>77</td>\n",
              "      <td>3.576923</td>\n",
              "      <td>3.711538</td>\n",
              "      <td>3.596154</td>\n",
              "      <td>3.673077</td>\n",
              "      <td>3.711538</td>\n",
              "      <td>26</td>\n",
              "    </tr>\n",
              "    <tr>\n",
              "      <th>3195</th>\n",
              "      <td>Fish Tale Winterfish</td>\n",
              "      <td>Winter Warmer</td>\n",
              "      <td>Fish Brewing Company / Fishbowl Brewpub</td>\n",
              "      <td>Fish Brewing Company / Fishbowl Brewpub Fish T...</td>\n",
              "      <td>Notes:</td>\n",
              "      <td>7.5</td>\n",
              "      <td>35</td>\n",
              "      <td>50</td>\n",
              "      <td>11</td>\n",
              "      <td>36</td>\n",
              "      <td>...</td>\n",
              "      <td>81</td>\n",
              "      <td>110</td>\n",
              "      <td>18</td>\n",
              "      <td>73</td>\n",
              "      <td>3.902299</td>\n",
              "      <td>3.885057</td>\n",
              "      <td>3.862069</td>\n",
              "      <td>3.902299</td>\n",
              "      <td>3.879310</td>\n",
              "      <td>87</td>\n",
              "    </tr>\n",
              "    <tr>\n",
              "      <th>3196</th>\n",
              "      <td>Frosted Frog Christmas Ale - Barrel-Aged</td>\n",
              "      <td>Winter Warmer</td>\n",
              "      <td>Hoppin' Frog Brewery</td>\n",
              "      <td>Hoppin' Frog Brewery Barrel Aged Frosted Frog ...</td>\n",
              "      <td>Notes:The essence of Christmas is captured in ...</td>\n",
              "      <td>8.6</td>\n",
              "      <td>35</td>\n",
              "      <td>50</td>\n",
              "      <td>8</td>\n",
              "      <td>50</td>\n",
              "      <td>...</td>\n",
              "      <td>33</td>\n",
              "      <td>16</td>\n",
              "      <td>148</td>\n",
              "      <td>69</td>\n",
              "      <td>3.888889</td>\n",
              "      <td>3.694444</td>\n",
              "      <td>3.833333</td>\n",
              "      <td>3.555556</td>\n",
              "      <td>3.527778</td>\n",
              "      <td>18</td>\n",
              "    </tr>\n",
              "  </tbody>\n",
              "</table>\n",
              "<p>5 rows × 25 columns</p>\n",
              "</div>\n",
              "      <button class=\"colab-df-convert\" onclick=\"convertToInteractive('df-95160d89-8437-482b-aa83-006fae7925ce')\"\n",
              "              title=\"Convert this dataframe to an interactive table.\"\n",
              "              style=\"display:none;\">\n",
              "        \n",
              "  <svg xmlns=\"http://www.w3.org/2000/svg\" height=\"24px\"viewBox=\"0 0 24 24\"\n",
              "       width=\"24px\">\n",
              "    <path d=\"M0 0h24v24H0V0z\" fill=\"none\"/>\n",
              "    <path d=\"M18.56 5.44l.94 2.06.94-2.06 2.06-.94-2.06-.94-.94-2.06-.94 2.06-2.06.94zm-11 1L8.5 8.5l.94-2.06 2.06-.94-2.06-.94L8.5 2.5l-.94 2.06-2.06.94zm10 10l.94 2.06.94-2.06 2.06-.94-2.06-.94-.94-2.06-.94 2.06-2.06.94z\"/><path d=\"M17.41 7.96l-1.37-1.37c-.4-.4-.92-.59-1.43-.59-.52 0-1.04.2-1.43.59L10.3 9.45l-7.72 7.72c-.78.78-.78 2.05 0 2.83L4 21.41c.39.39.9.59 1.41.59.51 0 1.02-.2 1.41-.59l7.78-7.78 2.81-2.81c.8-.78.8-2.07 0-2.86zM5.41 20L4 18.59l7.72-7.72 1.47 1.35L5.41 20z\"/>\n",
              "  </svg>\n",
              "      </button>\n",
              "      \n",
              "  <style>\n",
              "    .colab-df-container {\n",
              "      display:flex;\n",
              "      flex-wrap:wrap;\n",
              "      gap: 12px;\n",
              "    }\n",
              "\n",
              "    .colab-df-convert {\n",
              "      background-color: #E8F0FE;\n",
              "      border: none;\n",
              "      border-radius: 50%;\n",
              "      cursor: pointer;\n",
              "      display: none;\n",
              "      fill: #1967D2;\n",
              "      height: 32px;\n",
              "      padding: 0 0 0 0;\n",
              "      width: 32px;\n",
              "    }\n",
              "\n",
              "    .colab-df-convert:hover {\n",
              "      background-color: #E2EBFA;\n",
              "      box-shadow: 0px 1px 2px rgba(60, 64, 67, 0.3), 0px 1px 3px 1px rgba(60, 64, 67, 0.15);\n",
              "      fill: #174EA6;\n",
              "    }\n",
              "\n",
              "    [theme=dark] .colab-df-convert {\n",
              "      background-color: #3B4455;\n",
              "      fill: #D2E3FC;\n",
              "    }\n",
              "\n",
              "    [theme=dark] .colab-df-convert:hover {\n",
              "      background-color: #434B5C;\n",
              "      box-shadow: 0px 1px 3px 1px rgba(0, 0, 0, 0.15);\n",
              "      filter: drop-shadow(0px 1px 2px rgba(0, 0, 0, 0.3));\n",
              "      fill: #FFFFFF;\n",
              "    }\n",
              "  </style>\n",
              "\n",
              "      <script>\n",
              "        const buttonEl =\n",
              "          document.querySelector('#df-95160d89-8437-482b-aa83-006fae7925ce button.colab-df-convert');\n",
              "        buttonEl.style.display =\n",
              "          google.colab.kernel.accessAllowed ? 'block' : 'none';\n",
              "\n",
              "        async function convertToInteractive(key) {\n",
              "          const element = document.querySelector('#df-95160d89-8437-482b-aa83-006fae7925ce');\n",
              "          const dataTable =\n",
              "            await google.colab.kernel.invokeFunction('convertToInteractive',\n",
              "                                                     [key], {});\n",
              "          if (!dataTable) return;\n",
              "\n",
              "          const docLinkHtml = 'Like what you see? Visit the ' +\n",
              "            '<a target=\"_blank\" href=https://colab.research.google.com/notebooks/data_table.ipynb>data table notebook</a>'\n",
              "            + ' to learn more about interactive tables.';\n",
              "          element.innerHTML = '';\n",
              "          dataTable['output_type'] = 'display_data';\n",
              "          await google.colab.output.renderOutput(dataTable, element);\n",
              "          const docLink = document.createElement('div');\n",
              "          docLink.innerHTML = docLinkHtml;\n",
              "          element.appendChild(docLink);\n",
              "        }\n",
              "      </script>\n",
              "    </div>\n",
              "  </div>\n",
              "  "
            ]
          },
          "metadata": {},
          "execution_count": 20
        }
      ]
    },
    {
      "cell_type": "code",
      "source": [
        "df.take([0, 2, 4])"
      ],
      "metadata": {
        "colab": {
          "base_uri": "https://localhost:8080/",
          "height": 515
        },
        "id": "NzKmEn7DXkkY",
        "outputId": "1b685070-b8aa-4c81-8da4-5181a31210f3"
      },
      "execution_count": 21,
      "outputs": [
        {
          "output_type": "execute_result",
          "data": {
            "text/plain": [
              "                           Name    Style                  Brewery  \\\n",
              "0                         Amber  Altbier      Alaskan Brewing Co.   \n",
              "2                Long Trail Ale  Altbier   Long Trail Brewing Co.   \n",
              "4  Sleigh'r Dark Doüble Alt Ale  Altbier  Ninkasi Brewing Company   \n",
              "\n",
              "                                    Beer Name (Full)  \\\n",
              "0                  Alaskan Brewing Co. Alaskan Amber   \n",
              "2              Long Trail Brewing Co. Long Trail Ale   \n",
              "4  Ninkasi Brewing Company Sleigh'r Dark Doüble A...   \n",
              "\n",
              "                                         Description  ABV  Min IBU  Max IBU  \\\n",
              "0  Notes:Richly malty and long on the palate, wit...  5.3       25       50   \n",
              "2  Notes:Long Trail Ale is a full-bodied amber al...  5.0       25       50   \n",
              "4  Notes:Called 'Dark Double Alt' on the label.Se...  7.2       25       50   \n",
              "\n",
              "   Astringency  Body  ...  Fruits  Hoppy  Spices  Malty  review_aroma  \\\n",
              "0           13    32  ...      33     57       8    111      3.498994   \n",
              "2           14    37  ...      10     54       4     62      3.409814   \n",
              "4           25    51  ...      11     51      20     95      3.625000   \n",
              "\n",
              "   review_appearance  review_palate  review_taste  review_overall  \\\n",
              "0           3.636821       3.556338      3.643863        3.847082   \n",
              "2           3.667109       3.600796      3.631300        3.830239   \n",
              "4           3.973958       3.734375      3.765625        3.817708   \n",
              "\n",
              "   number_of_reviews  \n",
              "0                497  \n",
              "2                377  \n",
              "4                 96  \n",
              "\n",
              "[3 rows x 25 columns]"
            ],
            "text/html": [
              "\n",
              "  <div id=\"df-02e4a20d-3919-4b74-850c-e635450a9608\">\n",
              "    <div class=\"colab-df-container\">\n",
              "      <div>\n",
              "<style scoped>\n",
              "    .dataframe tbody tr th:only-of-type {\n",
              "        vertical-align: middle;\n",
              "    }\n",
              "\n",
              "    .dataframe tbody tr th {\n",
              "        vertical-align: top;\n",
              "    }\n",
              "\n",
              "    .dataframe thead th {\n",
              "        text-align: right;\n",
              "    }\n",
              "</style>\n",
              "<table border=\"1\" class=\"dataframe\">\n",
              "  <thead>\n",
              "    <tr style=\"text-align: right;\">\n",
              "      <th></th>\n",
              "      <th>Name</th>\n",
              "      <th>Style</th>\n",
              "      <th>Brewery</th>\n",
              "      <th>Beer Name (Full)</th>\n",
              "      <th>Description</th>\n",
              "      <th>ABV</th>\n",
              "      <th>Min IBU</th>\n",
              "      <th>Max IBU</th>\n",
              "      <th>Astringency</th>\n",
              "      <th>Body</th>\n",
              "      <th>...</th>\n",
              "      <th>Fruits</th>\n",
              "      <th>Hoppy</th>\n",
              "      <th>Spices</th>\n",
              "      <th>Malty</th>\n",
              "      <th>review_aroma</th>\n",
              "      <th>review_appearance</th>\n",
              "      <th>review_palate</th>\n",
              "      <th>review_taste</th>\n",
              "      <th>review_overall</th>\n",
              "      <th>number_of_reviews</th>\n",
              "    </tr>\n",
              "  </thead>\n",
              "  <tbody>\n",
              "    <tr>\n",
              "      <th>0</th>\n",
              "      <td>Amber</td>\n",
              "      <td>Altbier</td>\n",
              "      <td>Alaskan Brewing Co.</td>\n",
              "      <td>Alaskan Brewing Co. Alaskan Amber</td>\n",
              "      <td>Notes:Richly malty and long on the palate, wit...</td>\n",
              "      <td>5.3</td>\n",
              "      <td>25</td>\n",
              "      <td>50</td>\n",
              "      <td>13</td>\n",
              "      <td>32</td>\n",
              "      <td>...</td>\n",
              "      <td>33</td>\n",
              "      <td>57</td>\n",
              "      <td>8</td>\n",
              "      <td>111</td>\n",
              "      <td>3.498994</td>\n",
              "      <td>3.636821</td>\n",
              "      <td>3.556338</td>\n",
              "      <td>3.643863</td>\n",
              "      <td>3.847082</td>\n",
              "      <td>497</td>\n",
              "    </tr>\n",
              "    <tr>\n",
              "      <th>2</th>\n",
              "      <td>Long Trail Ale</td>\n",
              "      <td>Altbier</td>\n",
              "      <td>Long Trail Brewing Co.</td>\n",
              "      <td>Long Trail Brewing Co. Long Trail Ale</td>\n",
              "      <td>Notes:Long Trail Ale is a full-bodied amber al...</td>\n",
              "      <td>5.0</td>\n",
              "      <td>25</td>\n",
              "      <td>50</td>\n",
              "      <td>14</td>\n",
              "      <td>37</td>\n",
              "      <td>...</td>\n",
              "      <td>10</td>\n",
              "      <td>54</td>\n",
              "      <td>4</td>\n",
              "      <td>62</td>\n",
              "      <td>3.409814</td>\n",
              "      <td>3.667109</td>\n",
              "      <td>3.600796</td>\n",
              "      <td>3.631300</td>\n",
              "      <td>3.830239</td>\n",
              "      <td>377</td>\n",
              "    </tr>\n",
              "    <tr>\n",
              "      <th>4</th>\n",
              "      <td>Sleigh'r Dark Doüble Alt Ale</td>\n",
              "      <td>Altbier</td>\n",
              "      <td>Ninkasi Brewing Company</td>\n",
              "      <td>Ninkasi Brewing Company Sleigh'r Dark Doüble A...</td>\n",
              "      <td>Notes:Called 'Dark Double Alt' on the label.Se...</td>\n",
              "      <td>7.2</td>\n",
              "      <td>25</td>\n",
              "      <td>50</td>\n",
              "      <td>25</td>\n",
              "      <td>51</td>\n",
              "      <td>...</td>\n",
              "      <td>11</td>\n",
              "      <td>51</td>\n",
              "      <td>20</td>\n",
              "      <td>95</td>\n",
              "      <td>3.625000</td>\n",
              "      <td>3.973958</td>\n",
              "      <td>3.734375</td>\n",
              "      <td>3.765625</td>\n",
              "      <td>3.817708</td>\n",
              "      <td>96</td>\n",
              "    </tr>\n",
              "  </tbody>\n",
              "</table>\n",
              "<p>3 rows × 25 columns</p>\n",
              "</div>\n",
              "      <button class=\"colab-df-convert\" onclick=\"convertToInteractive('df-02e4a20d-3919-4b74-850c-e635450a9608')\"\n",
              "              title=\"Convert this dataframe to an interactive table.\"\n",
              "              style=\"display:none;\">\n",
              "        \n",
              "  <svg xmlns=\"http://www.w3.org/2000/svg\" height=\"24px\"viewBox=\"0 0 24 24\"\n",
              "       width=\"24px\">\n",
              "    <path d=\"M0 0h24v24H0V0z\" fill=\"none\"/>\n",
              "    <path d=\"M18.56 5.44l.94 2.06.94-2.06 2.06-.94-2.06-.94-.94-2.06-.94 2.06-2.06.94zm-11 1L8.5 8.5l.94-2.06 2.06-.94-2.06-.94L8.5 2.5l-.94 2.06-2.06.94zm10 10l.94 2.06.94-2.06 2.06-.94-2.06-.94-.94-2.06-.94 2.06-2.06.94z\"/><path d=\"M17.41 7.96l-1.37-1.37c-.4-.4-.92-.59-1.43-.59-.52 0-1.04.2-1.43.59L10.3 9.45l-7.72 7.72c-.78.78-.78 2.05 0 2.83L4 21.41c.39.39.9.59 1.41.59.51 0 1.02-.2 1.41-.59l7.78-7.78 2.81-2.81c.8-.78.8-2.07 0-2.86zM5.41 20L4 18.59l7.72-7.72 1.47 1.35L5.41 20z\"/>\n",
              "  </svg>\n",
              "      </button>\n",
              "      \n",
              "  <style>\n",
              "    .colab-df-container {\n",
              "      display:flex;\n",
              "      flex-wrap:wrap;\n",
              "      gap: 12px;\n",
              "    }\n",
              "\n",
              "    .colab-df-convert {\n",
              "      background-color: #E8F0FE;\n",
              "      border: none;\n",
              "      border-radius: 50%;\n",
              "      cursor: pointer;\n",
              "      display: none;\n",
              "      fill: #1967D2;\n",
              "      height: 32px;\n",
              "      padding: 0 0 0 0;\n",
              "      width: 32px;\n",
              "    }\n",
              "\n",
              "    .colab-df-convert:hover {\n",
              "      background-color: #E2EBFA;\n",
              "      box-shadow: 0px 1px 2px rgba(60, 64, 67, 0.3), 0px 1px 3px 1px rgba(60, 64, 67, 0.15);\n",
              "      fill: #174EA6;\n",
              "    }\n",
              "\n",
              "    [theme=dark] .colab-df-convert {\n",
              "      background-color: #3B4455;\n",
              "      fill: #D2E3FC;\n",
              "    }\n",
              "\n",
              "    [theme=dark] .colab-df-convert:hover {\n",
              "      background-color: #434B5C;\n",
              "      box-shadow: 0px 1px 3px 1px rgba(0, 0, 0, 0.15);\n",
              "      filter: drop-shadow(0px 1px 2px rgba(0, 0, 0, 0.3));\n",
              "      fill: #FFFFFF;\n",
              "    }\n",
              "  </style>\n",
              "\n",
              "      <script>\n",
              "        const buttonEl =\n",
              "          document.querySelector('#df-02e4a20d-3919-4b74-850c-e635450a9608 button.colab-df-convert');\n",
              "        buttonEl.style.display =\n",
              "          google.colab.kernel.accessAllowed ? 'block' : 'none';\n",
              "\n",
              "        async function convertToInteractive(key) {\n",
              "          const element = document.querySelector('#df-02e4a20d-3919-4b74-850c-e635450a9608');\n",
              "          const dataTable =\n",
              "            await google.colab.kernel.invokeFunction('convertToInteractive',\n",
              "                                                     [key], {});\n",
              "          if (!dataTable) return;\n",
              "\n",
              "          const docLinkHtml = 'Like what you see? Visit the ' +\n",
              "            '<a target=\"_blank\" href=https://colab.research.google.com/notebooks/data_table.ipynb>data table notebook</a>'\n",
              "            + ' to learn more about interactive tables.';\n",
              "          element.innerHTML = '';\n",
              "          dataTable['output_type'] = 'display_data';\n",
              "          await google.colab.output.renderOutput(dataTable, element);\n",
              "          const docLink = document.createElement('div');\n",
              "          docLink.innerHTML = docLinkHtml;\n",
              "          element.appendChild(docLink);\n",
              "        }\n",
              "      </script>\n",
              "    </div>\n",
              "  </div>\n",
              "  "
            ]
          },
          "metadata": {},
          "execution_count": 21
        }
      ]
    },
    {
      "cell_type": "code",
      "source": [
        "# Indexarea unei coloane din df\n",
        "df[\"Name\"]"
      ],
      "metadata": {
        "colab": {
          "base_uri": "https://localhost:8080/"
        },
        "id": "K6HOkF1gGRhB",
        "outputId": "97c8efc3-5175-43ff-e5cd-d3719afa2e46"
      },
      "execution_count": 22,
      "outputs": [
        {
          "output_type": "execute_result",
          "data": {
            "text/plain": [
              "0                                          Amber\n",
              "1                                     Double Bag\n",
              "2                                 Long Trail Ale\n",
              "3                                   Doppelsticke\n",
              "4                   Sleigh'r Dark Doüble Alt Ale\n",
              "                          ...                   \n",
              "3192                             Winter Shredder\n",
              "3193                          The First Snow Ale\n",
              "3194                         Red Nose Winter Ale\n",
              "3195                        Fish Tale Winterfish\n",
              "3196    Frosted Frog Christmas Ale - Barrel-Aged\n",
              "Name: Name, Length: 3197, dtype: object"
            ]
          },
          "metadata": {},
          "execution_count": 22
        }
      ]
    },
    {
      "cell_type": "code",
      "source": [
        "# Indexarea unui record in df folosind 'iloc'\n",
        "df.iloc[0]"
      ],
      "metadata": {
        "colab": {
          "base_uri": "https://localhost:8080/"
        },
        "id": "WD55KQwmNtbD",
        "outputId": "1d6772bb-221d-4256-8d44-61a2eac889a2"
      },
      "execution_count": 23,
      "outputs": [
        {
          "output_type": "execute_result",
          "data": {
            "text/plain": [
              "Name                                                             Amber\n",
              "Style                                                          Altbier\n",
              "Brewery                                            Alaskan Brewing Co.\n",
              "Beer Name (Full)                     Alaskan Brewing Co. Alaskan Amber\n",
              "Description          Notes:Richly malty and long on the palate, wit...\n",
              "ABV                                                                5.3\n",
              "Min IBU                                                             25\n",
              "Max IBU                                                             50\n",
              "Astringency                                                         13\n",
              "Body                                                                32\n",
              "Alcohol                                                              9\n",
              "Bitter                                                              47\n",
              "Sweet                                                               74\n",
              "Sour                                                                33\n",
              "Salty                                                                0\n",
              "Fruits                                                              33\n",
              "Hoppy                                                               57\n",
              "Spices                                                               8\n",
              "Malty                                                              111\n",
              "review_aroma                                                  3.498994\n",
              "review_appearance                                             3.636821\n",
              "review_palate                                                 3.556338\n",
              "review_taste                                                  3.643863\n",
              "review_overall                                                3.847082\n",
              "number_of_reviews                                                  497\n",
              "Name: 0, dtype: object"
            ]
          },
          "metadata": {},
          "execution_count": 23
        }
      ]
    },
    {
      "cell_type": "code",
      "source": [
        "# Indexarea unui record in df folosind 'loc'\n",
        "df.loc[0]"
      ],
      "metadata": {
        "colab": {
          "base_uri": "https://localhost:8080/"
        },
        "id": "dAz9591ANnbk",
        "outputId": "b1030289-cffe-4eaf-91d3-9ccae7ab868c"
      },
      "execution_count": 24,
      "outputs": [
        {
          "output_type": "execute_result",
          "data": {
            "text/plain": [
              "Name                                                             Amber\n",
              "Style                                                          Altbier\n",
              "Brewery                                            Alaskan Brewing Co.\n",
              "Beer Name (Full)                     Alaskan Brewing Co. Alaskan Amber\n",
              "Description          Notes:Richly malty and long on the palate, wit...\n",
              "ABV                                                                5.3\n",
              "Min IBU                                                             25\n",
              "Max IBU                                                             50\n",
              "Astringency                                                         13\n",
              "Body                                                                32\n",
              "Alcohol                                                              9\n",
              "Bitter                                                              47\n",
              "Sweet                                                               74\n",
              "Sour                                                                33\n",
              "Salty                                                                0\n",
              "Fruits                                                              33\n",
              "Hoppy                                                               57\n",
              "Spices                                                               8\n",
              "Malty                                                              111\n",
              "review_aroma                                                  3.498994\n",
              "review_appearance                                             3.636821\n",
              "review_palate                                                 3.556338\n",
              "review_taste                                                  3.643863\n",
              "review_overall                                                3.847082\n",
              "number_of_reviews                                                  497\n",
              "Name: 0, dtype: object"
            ]
          },
          "metadata": {},
          "execution_count": 24
        }
      ]
    },
    {
      "cell_type": "code",
      "source": [
        "# Indexarea unei celule din df folosind 'iloc'\n",
        "df.iloc[0][\"Name\"]"
      ],
      "metadata": {
        "colab": {
          "base_uri": "https://localhost:8080/",
          "height": 35
        },
        "id": "kYjsZ6BkNeTi",
        "outputId": "ae1179eb-0350-4147-b2bf-d8db446c3005"
      },
      "execution_count": 25,
      "outputs": [
        {
          "output_type": "execute_result",
          "data": {
            "text/plain": [
              "'Amber'"
            ],
            "application/vnd.google.colaboratory.intrinsic+json": {
              "type": "string"
            }
          },
          "metadata": {},
          "execution_count": 25
        }
      ]
    },
    {
      "cell_type": "code",
      "source": [
        "# Indexarea unei celule din df folosind 'loc'\n",
        "df.loc[0][\"Name\"]"
      ],
      "metadata": {
        "colab": {
          "base_uri": "https://localhost:8080/",
          "height": 35
        },
        "id": "iNMZfLMVNXoz",
        "outputId": "e6dc22b2-a5ea-44f5-e550-4aa144d485d1"
      },
      "execution_count": 26,
      "outputs": [
        {
          "output_type": "execute_result",
          "data": {
            "text/plain": [
              "'Amber'"
            ],
            "application/vnd.google.colaboratory.intrinsic+json": {
              "type": "string"
            }
          },
          "metadata": {},
          "execution_count": 26
        }
      ]
    },
    {
      "cell_type": "code",
      "source": [
        "# Indexarea unei celule din df folosind 'at'\n",
        "df.at[0, \"Name\"]"
      ],
      "metadata": {
        "colab": {
          "base_uri": "https://localhost:8080/",
          "height": 35
        },
        "id": "DZtU8-ZxX5Wu",
        "outputId": "f0d634ef-5f46-4c55-c6ed-e116453ee45d"
      },
      "execution_count": 27,
      "outputs": [
        {
          "output_type": "execute_result",
          "data": {
            "text/plain": [
              "'Amber'"
            ],
            "application/vnd.google.colaboratory.intrinsic+json": {
              "type": "string"
            }
          },
          "metadata": {},
          "execution_count": 27
        }
      ]
    },
    {
      "cell_type": "code",
      "source": [
        "# Un slice de record-uri din df\n",
        "df.loc[1:5, \"Name\"]"
      ],
      "metadata": {
        "colab": {
          "base_uri": "https://localhost:8080/"
        },
        "id": "U_MRPri9N1Qk",
        "outputId": "dbe5200f-5165-4ea4-dfe8-12a1d80309e4"
      },
      "execution_count": 28,
      "outputs": [
        {
          "output_type": "execute_result",
          "data": {
            "text/plain": [
              "1                      Double Bag\n",
              "2                  Long Trail Ale\n",
              "3                    Doppelsticke\n",
              "4    Sleigh'r Dark Doüble Alt Ale\n",
              "5                          Sticke\n",
              "Name: Name, dtype: object"
            ]
          },
          "metadata": {},
          "execution_count": 28
        }
      ]
    },
    {
      "cell_type": "code",
      "source": [
        "# Obtinerea atributelor unice dintr-o coloana\n",
        "df[\"Name\"].unique()"
      ],
      "metadata": {
        "colab": {
          "base_uri": "https://localhost:8080/"
        },
        "id": "SUinvBE6OGDZ",
        "outputId": "fb34e28d-248e-4e7b-a9eb-4d64faf35a71"
      },
      "execution_count": 29,
      "outputs": [
        {
          "output_type": "execute_result",
          "data": {
            "text/plain": [
              "array(['Amber', 'Double Bag', 'Long Trail Ale', ...,\n",
              "       'Red Nose Winter Ale', 'Fish Tale Winterfish',\n",
              "       'Frosted Frog Christmas Ale - Barrel-Aged'], dtype=object)"
            ]
          },
          "metadata": {},
          "execution_count": 29
        }
      ]
    },
    {
      "cell_type": "code",
      "source": [
        "# Filtrarea dupa o proprietate data\n",
        "df[df[\"Name\"] == \"Amber\"]"
      ],
      "metadata": {
        "colab": {
          "base_uri": "https://localhost:8080/",
          "height": 362
        },
        "id": "NSfcM-L_OI2l",
        "outputId": "1c1058a7-3914-484c-96db-506f19f255de"
      },
      "execution_count": 30,
      "outputs": [
        {
          "output_type": "execute_result",
          "data": {
            "text/plain": [
              "       Name                         Style              Brewery  \\\n",
              "0     Amber                       Altbier  Alaskan Brewing Co.   \n",
              "1063  Amber  Lager - American Amber / Red    Abita Brewing Co.   \n",
              "\n",
              "                       Beer Name (Full)  \\\n",
              "0     Alaskan Brewing Co. Alaskan Amber   \n",
              "1063            Abita Brewing Co. Amber   \n",
              "\n",
              "                                            Description  ABV  Min IBU  \\\n",
              "0     Notes:Richly malty and long on the palate, wit...  5.3       25   \n",
              "1063  Notes:Amber is a Munich style lager brewed wit...  4.5       18   \n",
              "\n",
              "      Max IBU  Astringency  Body  ...  Fruits  Hoppy  Spices  Malty  \\\n",
              "0          50           13    32  ...      33     57       8    111   \n",
              "1063       30           13    24  ...       5     32       2     71   \n",
              "\n",
              "      review_aroma  review_appearance  review_palate  review_taste  \\\n",
              "0         3.498994           3.636821       3.556338      3.643863   \n",
              "1063      3.205189           3.485849       3.318396      3.340802   \n",
              "\n",
              "      review_overall  number_of_reviews  \n",
              "0           3.847082                497  \n",
              "1063        3.549528                424  \n",
              "\n",
              "[2 rows x 25 columns]"
            ],
            "text/html": [
              "\n",
              "  <div id=\"df-80fc631f-0bc1-4368-be30-81c796828909\">\n",
              "    <div class=\"colab-df-container\">\n",
              "      <div>\n",
              "<style scoped>\n",
              "    .dataframe tbody tr th:only-of-type {\n",
              "        vertical-align: middle;\n",
              "    }\n",
              "\n",
              "    .dataframe tbody tr th {\n",
              "        vertical-align: top;\n",
              "    }\n",
              "\n",
              "    .dataframe thead th {\n",
              "        text-align: right;\n",
              "    }\n",
              "</style>\n",
              "<table border=\"1\" class=\"dataframe\">\n",
              "  <thead>\n",
              "    <tr style=\"text-align: right;\">\n",
              "      <th></th>\n",
              "      <th>Name</th>\n",
              "      <th>Style</th>\n",
              "      <th>Brewery</th>\n",
              "      <th>Beer Name (Full)</th>\n",
              "      <th>Description</th>\n",
              "      <th>ABV</th>\n",
              "      <th>Min IBU</th>\n",
              "      <th>Max IBU</th>\n",
              "      <th>Astringency</th>\n",
              "      <th>Body</th>\n",
              "      <th>...</th>\n",
              "      <th>Fruits</th>\n",
              "      <th>Hoppy</th>\n",
              "      <th>Spices</th>\n",
              "      <th>Malty</th>\n",
              "      <th>review_aroma</th>\n",
              "      <th>review_appearance</th>\n",
              "      <th>review_palate</th>\n",
              "      <th>review_taste</th>\n",
              "      <th>review_overall</th>\n",
              "      <th>number_of_reviews</th>\n",
              "    </tr>\n",
              "  </thead>\n",
              "  <tbody>\n",
              "    <tr>\n",
              "      <th>0</th>\n",
              "      <td>Amber</td>\n",
              "      <td>Altbier</td>\n",
              "      <td>Alaskan Brewing Co.</td>\n",
              "      <td>Alaskan Brewing Co. Alaskan Amber</td>\n",
              "      <td>Notes:Richly malty and long on the palate, wit...</td>\n",
              "      <td>5.3</td>\n",
              "      <td>25</td>\n",
              "      <td>50</td>\n",
              "      <td>13</td>\n",
              "      <td>32</td>\n",
              "      <td>...</td>\n",
              "      <td>33</td>\n",
              "      <td>57</td>\n",
              "      <td>8</td>\n",
              "      <td>111</td>\n",
              "      <td>3.498994</td>\n",
              "      <td>3.636821</td>\n",
              "      <td>3.556338</td>\n",
              "      <td>3.643863</td>\n",
              "      <td>3.847082</td>\n",
              "      <td>497</td>\n",
              "    </tr>\n",
              "    <tr>\n",
              "      <th>1063</th>\n",
              "      <td>Amber</td>\n",
              "      <td>Lager - American Amber / Red</td>\n",
              "      <td>Abita Brewing Co.</td>\n",
              "      <td>Abita Brewing Co. Amber</td>\n",
              "      <td>Notes:Amber is a Munich style lager brewed wit...</td>\n",
              "      <td>4.5</td>\n",
              "      <td>18</td>\n",
              "      <td>30</td>\n",
              "      <td>13</td>\n",
              "      <td>24</td>\n",
              "      <td>...</td>\n",
              "      <td>5</td>\n",
              "      <td>32</td>\n",
              "      <td>2</td>\n",
              "      <td>71</td>\n",
              "      <td>3.205189</td>\n",
              "      <td>3.485849</td>\n",
              "      <td>3.318396</td>\n",
              "      <td>3.340802</td>\n",
              "      <td>3.549528</td>\n",
              "      <td>424</td>\n",
              "    </tr>\n",
              "  </tbody>\n",
              "</table>\n",
              "<p>2 rows × 25 columns</p>\n",
              "</div>\n",
              "      <button class=\"colab-df-convert\" onclick=\"convertToInteractive('df-80fc631f-0bc1-4368-be30-81c796828909')\"\n",
              "              title=\"Convert this dataframe to an interactive table.\"\n",
              "              style=\"display:none;\">\n",
              "        \n",
              "  <svg xmlns=\"http://www.w3.org/2000/svg\" height=\"24px\"viewBox=\"0 0 24 24\"\n",
              "       width=\"24px\">\n",
              "    <path d=\"M0 0h24v24H0V0z\" fill=\"none\"/>\n",
              "    <path d=\"M18.56 5.44l.94 2.06.94-2.06 2.06-.94-2.06-.94-.94-2.06-.94 2.06-2.06.94zm-11 1L8.5 8.5l.94-2.06 2.06-.94-2.06-.94L8.5 2.5l-.94 2.06-2.06.94zm10 10l.94 2.06.94-2.06 2.06-.94-2.06-.94-.94-2.06-.94 2.06-2.06.94z\"/><path d=\"M17.41 7.96l-1.37-1.37c-.4-.4-.92-.59-1.43-.59-.52 0-1.04.2-1.43.59L10.3 9.45l-7.72 7.72c-.78.78-.78 2.05 0 2.83L4 21.41c.39.39.9.59 1.41.59.51 0 1.02-.2 1.41-.59l7.78-7.78 2.81-2.81c.8-.78.8-2.07 0-2.86zM5.41 20L4 18.59l7.72-7.72 1.47 1.35L5.41 20z\"/>\n",
              "  </svg>\n",
              "      </button>\n",
              "      \n",
              "  <style>\n",
              "    .colab-df-container {\n",
              "      display:flex;\n",
              "      flex-wrap:wrap;\n",
              "      gap: 12px;\n",
              "    }\n",
              "\n",
              "    .colab-df-convert {\n",
              "      background-color: #E8F0FE;\n",
              "      border: none;\n",
              "      border-radius: 50%;\n",
              "      cursor: pointer;\n",
              "      display: none;\n",
              "      fill: #1967D2;\n",
              "      height: 32px;\n",
              "      padding: 0 0 0 0;\n",
              "      width: 32px;\n",
              "    }\n",
              "\n",
              "    .colab-df-convert:hover {\n",
              "      background-color: #E2EBFA;\n",
              "      box-shadow: 0px 1px 2px rgba(60, 64, 67, 0.3), 0px 1px 3px 1px rgba(60, 64, 67, 0.15);\n",
              "      fill: #174EA6;\n",
              "    }\n",
              "\n",
              "    [theme=dark] .colab-df-convert {\n",
              "      background-color: #3B4455;\n",
              "      fill: #D2E3FC;\n",
              "    }\n",
              "\n",
              "    [theme=dark] .colab-df-convert:hover {\n",
              "      background-color: #434B5C;\n",
              "      box-shadow: 0px 1px 3px 1px rgba(0, 0, 0, 0.15);\n",
              "      filter: drop-shadow(0px 1px 2px rgba(0, 0, 0, 0.3));\n",
              "      fill: #FFFFFF;\n",
              "    }\n",
              "  </style>\n",
              "\n",
              "      <script>\n",
              "        const buttonEl =\n",
              "          document.querySelector('#df-80fc631f-0bc1-4368-be30-81c796828909 button.colab-df-convert');\n",
              "        buttonEl.style.display =\n",
              "          google.colab.kernel.accessAllowed ? 'block' : 'none';\n",
              "\n",
              "        async function convertToInteractive(key) {\n",
              "          const element = document.querySelector('#df-80fc631f-0bc1-4368-be30-81c796828909');\n",
              "          const dataTable =\n",
              "            await google.colab.kernel.invokeFunction('convertToInteractive',\n",
              "                                                     [key], {});\n",
              "          if (!dataTable) return;\n",
              "\n",
              "          const docLinkHtml = 'Like what you see? Visit the ' +\n",
              "            '<a target=\"_blank\" href=https://colab.research.google.com/notebooks/data_table.ipynb>data table notebook</a>'\n",
              "            + ' to learn more about interactive tables.';\n",
              "          element.innerHTML = '';\n",
              "          dataTable['output_type'] = 'display_data';\n",
              "          await google.colab.output.renderOutput(dataTable, element);\n",
              "          const docLink = document.createElement('div');\n",
              "          docLink.innerHTML = docLinkHtml;\n",
              "          element.appendChild(docLink);\n",
              "        }\n",
              "      </script>\n",
              "    </div>\n",
              "  </div>\n",
              "  "
            ]
          },
          "metadata": {},
          "execution_count": 30
        }
      ]
    },
    {
      "cell_type": "code",
      "source": [
        "df_1 = df.copy()\n",
        "df_2 = df.copy()\n",
        "\n",
        "df_concat = pd.concat([df_1, df_2], axis=0) # concatenarea pe linii\n",
        "print(\"Concatenarea dataframe-urilor la nivel de linii\")\n",
        "print(len(df_1))\n",
        "print(len(df_2))\n",
        "print(len(df_concat))\n",
        "\n",
        "df_concat = pd.concat([df_1, df_2], axis=1) # concatenarea pe coloane\n",
        "print(\"Concatenarea dataframe-urilor la nivel de coloane\")\n",
        "print(len(df_1.loc[0]))\n",
        "print(len(df_2.loc[0]))\n",
        "print(len(df_concat.loc[0]))"
      ],
      "metadata": {
        "colab": {
          "base_uri": "https://localhost:8080/"
        },
        "id": "SbH_gr9tOcT2",
        "outputId": "61312797-bc37-4e56-88a1-7641e0d580d3"
      },
      "execution_count": 31,
      "outputs": [
        {
          "output_type": "stream",
          "name": "stdout",
          "text": [
            "Concatenarea dataframe-urilor la nivel de linii\n",
            "3197\n",
            "3197\n",
            "6394\n",
            "Concatenarea dataframe-urilor la nivel de coloane\n",
            "25\n",
            "25\n",
            "50\n"
          ]
        }
      ]
    },
    {
      "cell_type": "code",
      "source": [
        "# Grafic cumulativ al valorilor din coloana \"Alcohol\"\n",
        "df[\"Alcohol\"].cumsum().plot() "
      ],
      "metadata": {
        "colab": {
          "base_uri": "https://localhost:8080/",
          "height": 282
        },
        "id": "ywMXRx8WO_hl",
        "outputId": "ba6ae59c-d000-48a0-bd69-379612807e2f"
      },
      "execution_count": 32,
      "outputs": [
        {
          "output_type": "execute_result",
          "data": {
            "text/plain": [
              "<matplotlib.axes._subplots.AxesSubplot at 0x7fa180f90a50>"
            ]
          },
          "metadata": {},
          "execution_count": 32
        },
        {
          "output_type": "display_data",
          "data": {
            "text/plain": [
              "<Figure size 432x288 with 1 Axes>"
            ],
            "image/png": "[encoded data removed]"
          },
          "metadata": {
            "needs_background": "light"
          }
        }
      ]
    },
    {
      "cell_type": "code",
      "source": [
        "from collections import Counter\n",
        "styles = df[\"Style\"].to_list()\n",
        "style_mapping = Counter(styles)\n",
        "df[\"Style\"] = df[\"Style\"].map(style_mapping)\n",
        "print(\"Distributia numarului de beri dupa cate au acelasi atribut 'Style'\")\n",
        "df[\"Style\"].hist()"
      ],
      "metadata": {
        "colab": {
          "base_uri": "https://localhost:8080/",
          "height": 300
        },
        "id": "gzKSIDM3X8K_",
        "outputId": "a6d71599-b2fd-4151-e5ba-e0d1322375c1"
      },
      "execution_count": 33,
      "outputs": [
        {
          "output_type": "stream",
          "name": "stdout",
          "text": [
            "Distributia numarului de beri dupa cate au acelasi atribut 'Style'\n"
          ]
        },
        {
          "output_type": "execute_result",
          "data": {
            "text/plain": [
              "<matplotlib.axes._subplots.AxesSubplot at 0x7fa1809dcf90>"
            ]
          },
          "metadata": {},
          "execution_count": 33
        },
        {
          "output_type": "display_data",
          "data": {
            "text/plain": [
              "<Figure size 432x288 with 1 Axes>"
            ],
            "image/png": "[encoded data removed]"
          },
          "metadata": {
            "needs_background": "light"
          }
        }
      ]
    },
    {
      "cell_type": "code",
      "source": [
        "# Un dataframe poate fi construit si plecand de la un dictionar\n",
        "data = {'col_1': [3, 2, 1, 0], 'col_2': ['a', 'b', 'c', 'd']}\n",
        "\n",
        "pd.DataFrame.from_dict(data)"
      ],
      "metadata": {
        "colab": {
          "base_uri": "https://localhost:8080/",
          "height": 175
        },
        "id": "O8NbtB0yF6o4",
        "outputId": "57bda95e-dbaa-439b-a5e5-4f1aa5d81f76"
      },
      "execution_count": 34,
      "outputs": [
        {
          "output_type": "execute_result",
          "data": {
            "text/plain": [
              "   col_1 col_2\n",
              "0      3     a\n",
              "1      2     b\n",
              "2      1     c\n",
              "3      0     d"
            ],
            "text/html": [
              "\n",
              "  <div id=\"df-9d6f253e-5d92-4220-8973-ac9ce4a045e9\">\n",
              "    <div class=\"colab-df-container\">\n",
              "      <div>\n",
              "<style scoped>\n",
              "    .dataframe tbody tr th:only-of-type {\n",
              "        vertical-align: middle;\n",
              "    }\n",
              "\n",
              "    .dataframe tbody tr th {\n",
              "        vertical-align: top;\n",
              "    }\n",
              "\n",
              "    .dataframe thead th {\n",
              "        text-align: right;\n",
              "    }\n",
              "</style>\n",
              "<table border=\"1\" class=\"dataframe\">\n",
              "  <thead>\n",
              "    <tr style=\"text-align: right;\">\n",
              "      <th></th>\n",
              "      <th>col_1</th>\n",
              "      <th>col_2</th>\n",
              "    </tr>\n",
              "  </thead>\n",
              "  <tbody>\n",
              "    <tr>\n",
              "      <th>0</th>\n",
              "      <td>3</td>\n",
              "      <td>a</td>\n",
              "    </tr>\n",
              "    <tr>\n",
              "      <th>1</th>\n",
              "      <td>2</td>\n",
              "      <td>b</td>\n",
              "    </tr>\n",
              "    <tr>\n",
              "      <th>2</th>\n",
              "      <td>1</td>\n",
              "      <td>c</td>\n",
              "    </tr>\n",
              "    <tr>\n",
              "      <th>3</th>\n",
              "      <td>0</td>\n",
              "      <td>d</td>\n",
              "    </tr>\n",
              "  </tbody>\n",
              "</table>\n",
              "</div>\n",
              "      <button class=\"colab-df-convert\" onclick=\"convertToInteractive('df-9d6f253e-5d92-4220-8973-ac9ce4a045e9')\"\n",
              "              title=\"Convert this dataframe to an interactive table.\"\n",
              "              style=\"display:none;\">\n",
              "        \n",
              "  <svg xmlns=\"http://www.w3.org/2000/svg\" height=\"24px\"viewBox=\"0 0 24 24\"\n",
              "       width=\"24px\">\n",
              "    <path d=\"M0 0h24v24H0V0z\" fill=\"none\"/>\n",
              "    <path d=\"M18.56 5.44l.94 2.06.94-2.06 2.06-.94-2.06-.94-.94-2.06-.94 2.06-2.06.94zm-11 1L8.5 8.5l.94-2.06 2.06-.94-2.06-.94L8.5 2.5l-.94 2.06-2.06.94zm10 10l.94 2.06.94-2.06 2.06-.94-2.06-.94-.94-2.06-.94 2.06-2.06.94z\"/><path d=\"M17.41 7.96l-1.37-1.37c-.4-.4-.92-.59-1.43-.59-.52 0-1.04.2-1.43.59L10.3 9.45l-7.72 7.72c-.78.78-.78 2.05 0 2.83L4 21.41c.39.39.9.59 1.41.59.51 0 1.02-.2 1.41-.59l7.78-7.78 2.81-2.81c.8-.78.8-2.07 0-2.86zM5.41 20L4 18.59l7.72-7.72 1.47 1.35L5.41 20z\"/>\n",
              "  </svg>\n",
              "      </button>\n",
              "      \n",
              "  <style>\n",
              "    .colab-df-container {\n",
              "      display:flex;\n",
              "      flex-wrap:wrap;\n",
              "      gap: 12px;\n",
              "    }\n",
              "\n",
              "    .colab-df-convert {\n",
              "      background-color: #E8F0FE;\n",
              "      border: none;\n",
              "      border-radius: 50%;\n",
              "      cursor: pointer;\n",
              "      display: none;\n",
              "      fill: #1967D2;\n",
              "      height: 32px;\n",
              "      padding: 0 0 0 0;\n",
              "      width: 32px;\n",
              "    }\n",
              "\n",
              "    .colab-df-convert:hover {\n",
              "      background-color: #E2EBFA;\n",
              "      box-shadow: 0px 1px 2px rgba(60, 64, 67, 0.3), 0px 1px 3px 1px rgba(60, 64, 67, 0.15);\n",
              "      fill: #174EA6;\n",
              "    }\n",
              "\n",
              "    [theme=dark] .colab-df-convert {\n",
              "      background-color: #3B4455;\n",
              "      fill: #D2E3FC;\n",
              "    }\n",
              "\n",
              "    [theme=dark] .colab-df-convert:hover {\n",
              "      background-color: #434B5C;\n",
              "      box-shadow: 0px 1px 3px 1px rgba(0, 0, 0, 0.15);\n",
              "      filter: drop-shadow(0px 1px 2px rgba(0, 0, 0, 0.3));\n",
              "      fill: #FFFFFF;\n",
              "    }\n",
              "  </style>\n",
              "\n",
              "      <script>\n",
              "        const buttonEl =\n",
              "          document.querySelector('#df-9d6f253e-5d92-4220-8973-ac9ce4a045e9 button.colab-df-convert');\n",
              "        buttonEl.style.display =\n",
              "          google.colab.kernel.accessAllowed ? 'block' : 'none';\n",
              "\n",
              "        async function convertToInteractive(key) {\n",
              "          const element = document.querySelector('#df-9d6f253e-5d92-4220-8973-ac9ce4a045e9');\n",
              "          const dataTable =\n",
              "            await google.colab.kernel.invokeFunction('convertToInteractive',\n",
              "                                                     [key], {});\n",
              "          if (!dataTable) return;\n",
              "\n",
              "          const docLinkHtml = 'Like what you see? Visit the ' +\n",
              "            '<a target=\"_blank\" href=https://colab.research.google.com/notebooks/data_table.ipynb>data table notebook</a>'\n",
              "            + ' to learn more about interactive tables.';\n",
              "          element.innerHTML = '';\n",
              "          dataTable['output_type'] = 'display_data';\n",
              "          await google.colab.output.renderOutput(dataTable, element);\n",
              "          const docLink = document.createElement('div');\n",
              "          docLink.innerHTML = docLinkHtml;\n",
              "          element.appendChild(docLink);\n",
              "        }\n",
              "      </script>\n",
              "    </div>\n",
              "  </div>\n",
              "  "
            ]
          },
          "metadata": {},
          "execution_count": 34
        }
      ]
    },
    {
      "cell_type": "code",
      "source": [
        ""
      ],
      "metadata": {
        "id": "SWwwzOH-NSOu"
      },
      "execution_count": 34,
      "outputs": []
    },
    {
      "cell_type": "markdown",
      "source": [
        "Matplotlib"
      ],
      "metadata": {
        "id": "RjU3yXnv_pem"
      }
    },
    {
      "cell_type": "code",
      "source": [
        "# Matplotlib vine de la Mathematical Plotting Library\n",
        "# Este folosita pentru a realiza analiza exploratorie si vizualizare datelor\n"
      ],
      "metadata": {
        "id": "UIV-3ZOK_qmz"
      },
      "execution_count": 35,
      "outputs": []
    },
    {
      "cell_type": "markdown",
      "source": [
        "De ce este important sa analizezi si sa vizualizezi datele?\n",
        "\n",
        "Un exemplu foarte bun care surprinde aceasta nevoie este \"Cvartetul lui Anscome\"(\"Anscombe's quartet\"). Acest exemplu cuprinde 4 dataset-uri care sunt aproape identice din punct de vedere statistic. Au aproximati aceeasi medie pe Ox si Oy, aceeasi deviatie standard pe ambele axe, aceeasi corelatie intre valorile absciselor si ale ordonatelor. Implicit, daca ar fi sa aplicam \"in orb\" un model liniar, asa cum este regresia liniara in care nu vom intra in detalii,dar ce trebuie sa stiti este ca aceasta regresie liniara incearca sa gaseasca o functie de gradul I care sa interpoleze cat mai bine o serie de puncte. Totusi, daca incercam sa facem si o vizualizare a acestor 4 dataset-uri vom obtine niste concluzii cel putin interesante. Primul dataset pare sa urmeze o relatie liniara cu putin noise gaussian pe alocuri. Al doilea dataset pe de alta parte surprinde o relatie neliniara intre puncte care ar putea fi cel mai bine modelata de o regresie polinomiala si nu de aceasta regresie liniara. Al treilea este tot un dataset cu o relatie liniara existenta intre caracteristicile lui, totusi prezentand un outlier important. Ultimul dataset curpinde si el un outlier mult mai pregnant, dar fiindca aproape toate punctele au aceeasi valoare pe Ox, deci nu putem trage o concluzie vizavi de de corelatia lor. In esenta cea mai importanta idee este ca datele pot sa difere foarte mult, iar uneori instrumentele pe care l eofera statistica nu sunt suficiente pentru a explica acele datasseturi pe o departe, iar pe de alta uneori vizualizaterea datelor ne poate furniza insight-uri legat de ce modele am putea folosi pentru aceste date  ne pot ajuta sa gasim noi feature-uri san are mere si mihai are pere![1280px-Anscombe's_quartet_3.svg.png](data:image/png;base64,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)"
      ],
      "metadata": {
        "id": "QEh_NENnI_x8"
      }
    },
    {
      "cell_type": "code",
      "source": [
        "# Majoritatea feature-urilor cele mai folosite din matplotlib se gasesc in submodulul pyplot, iar alias-ul de import folosit cel mai adesea este plt\n",
        "import matplotlib.pyplot as plt\n",
        "import numpy as np"
      ],
      "metadata": {
        "id": "kaPv3MwBNePE"
      },
      "execution_count": 36,
      "outputs": []
    },
    {
      "cell_type": "code",
      "source": [
        "# Linear Plot\n",
        "x = np.array([1, 2, 3, 4, 5, 6])\n",
        "y = np.array([1, 5, 3, 5, 7, 8])\n",
        "\n",
        "plt.plot(x, y)\n",
        "plt.show()"
      ],
      "metadata": {
        "colab": {
          "base_uri": "https://localhost:8080/",
          "height": 265
        },
        "id": "2HlL6ArE_Avi",
        "outputId": "afac3953-eebd-4755-86a1-0d1803392d74"
      },
      "execution_count": 37,
      "outputs": [
        {
          "output_type": "display_data",
          "data": {
            "text/plain": [
              "<Figure size 432x288 with 1 Axes>"
            ],
            "image/png": "[encoded data removed]"
          },
          "metadata": {
            "needs_background": "light"
          }
        }
      ]
    },
    {
      "cell_type": "code",
      "source": [
        "\n",
        "# Scatter Plot\n",
        "x_values = np.array([5,7,8,7,2,17,2,9,4,11,12,9,6])\n",
        "y_values = np.array([99,86,87,88,111,86,103,87,94,78,77,85,86])\n",
        "\n",
        "\n",
        "plt.scatter(x, y)\n",
        "plt.show()"
      ],
      "metadata": {
        "colab": {
          "base_uri": "https://localhost:8080/",
          "height": 265
        },
        "id": "9zdWfDggMEN0",
        "outputId": "a12b2a60-839f-46d4-e8d1-460757272e9b"
      },
      "execution_count": 38,
      "outputs": [
        {
          "output_type": "display_data",
          "data": {
            "text/plain": [
              "<Figure size 432x288 with 1 Axes>"
            ],
            "image/png": "[encoded data removed]"
          },
          "metadata": {
            "needs_background": "light"
          }
        }
      ]
    },
    {
      "cell_type": "code",
      "source": [
        "# Histogram\n",
        "x = np.random.normal(170, 10, 250)\n",
        "\n",
        "plt.hist(x)\n",
        "plt.show()\n"
      ],
      "metadata": {
        "colab": {
          "base_uri": "https://localhost:8080/",
          "height": 265
        },
        "id": "GgRrKjFEYP8M",
        "outputId": "0eca3a4b-3976-4bd3-96d3-d0cede4fb1d4"
      },
      "execution_count": 39,
      "outputs": [
        {
          "output_type": "display_data",
          "data": {
            "text/plain": [
              "<Figure size 432x288 with 1 Axes>"
            ],
            "image/png": "[encoded data removed]"
          },
          "metadata": {
            "needs_background": "light"
          }
        }
      ]
    },
    {
      "cell_type": "code",
      "source": [
        "# Barchart\n",
        "fig = plt.figure()\n",
        "ax = fig.add_axes([0,0,1,1])\n",
        "langs = ['C', 'C++', 'Java', 'Python', 'PHP']\n",
        "students = [23,17,35,29,12]\n",
        "ax.bar(langs,students)\n",
        "plt.show()"
      ],
      "metadata": {
        "colab": {
          "base_uri": "https://localhost:8080/",
          "height": 336
        },
        "id": "8on9X0hsYSJY",
        "outputId": "981478bd-4d7c-4270-e06a-bcdd7d6f3b1c"
      },
      "execution_count": 40,
      "outputs": [
        {
          "output_type": "display_data",
          "data": {
            "text/plain": [
              "<Figure size 432x288 with 1 Axes>"
            ],
            "image/png": "[encoded data removed]"
          },
          "metadata": {
            "needs_background": "light"
          }
        }
      ]
    },
    {
      "cell_type": "code",
      "source": [
        "# Wordcloud\n",
        "from wordcloud import WordCloud, STOPWORDS, ImageColorGenerator\n",
        "\n",
        "text = \" \".join(df[\"Description\"].to_list())\n",
        "wordcloud = WordCloud(max_font_size=50, max_words=100, background_color=\"white\").generate(text)\n",
        "plt.figure()\n",
        "plt.imshow(wordcloud, interpolation=\"bilinear\")\n",
        "plt.axis(\"off\")\n",
        "plt.show()"
      ],
      "metadata": {
        "colab": {
          "base_uri": "https://localhost:8080/",
          "height": 198
        },
        "id": "pI1gUyzXYUu6",
        "outputId": "b73c0a7e-2d24-41a7-d84d-e0355b761e88"
      },
      "execution_count": 41,
      "outputs": [
        {
          "output_type": "display_data",
          "data": {
            "text/plain": [
              "<Figure size 432x288 with 1 Axes>"
            ],
            "image/png": "[encoded data removed]"
          },
          "metadata": {
            "needs_background": "light"
          }
        }
      ]
    },
    {
      "cell_type": "code",
      "source": [
        ""
      ],
      "metadata": {
        "id": "2S0cRR0KdSu0"
      },
      "execution_count": 41,
      "outputs": []
    },
    {
      "cell_type": "code",
      "source": [
        "# Exercitii extra de Python aplicat in aceste librarii de Scientific Computing\n",
        "# https://www.freecodecamp.org/learn/scientific-computing-with-python/"
      ],
      "metadata": {
        "id": "P-rHbRHsPhho"
      },
      "execution_count": 42,
      "outputs": []
    },
    {
      "cell_type": "code",
      "source": [
        ""
      ],
      "metadata": {
        "id": "k6atych5Pqq8"
      },
      "execution_count": 42,
      "outputs": []
    }
  ]
}
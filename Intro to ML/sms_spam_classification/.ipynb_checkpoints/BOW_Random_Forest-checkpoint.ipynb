{
 "cells": [
  {
   "cell_type": "markdown",
   "metadata": {},
   "source": [
    "# SMS Spam Classification using Bag of Words and Random Forests"
   ]
  },
  {
   "cell_type": "markdown",
   "metadata": {},
   "source": [
    "### Loading our training data"
   ]
  },
  {
   "cell_type": "code",
   "execution_count": 1,
   "metadata": {},
   "outputs": [
    {
     "name": "stdout",
     "output_type": "stream",
     "text": [
      "['Probably not still going over some stuff here', 'I HAVE A DATE ON SUNDAY WITH WILL', 'Thanks 4 your continued support Your question this week will enter u in2 our draw 4 Â£100 cash Name the NEW US President txt ans to 80082', 'Dear 0776xxxxxxx Uve been invited to XCHAT This is our final attempt to contact u Txt CHAT to 86688 150pMsgrcvdHGSuite3422LandsRowW1J6HL LDN 18yrs', 'I sent my scores to sophas and i had to do secondary application for a few schools I think if you are thinking of applying do a research on cost also Contact joke ogunrinde her school is one me the less expensive ones', 'Kothi print out marandratha', 'Arun can u transfr me d amt', 'I asked you to call him now ok', 'Ringtone Club Gr8 new polys direct to your mobile every week', 'Hello Just got here st andrewsboy its a long way Its cold I will keep you posted']\n",
      "[0 0 1 1 0 0 0 0 1 0]\n",
      "3734\n",
      "3734\n"
     ]
    }
   ],
   "source": [
    "import numpy as np\n",
    "import pickle\n",
    "\n",
    "train_sentences = pickle.load(open('./data/train_sentences.pkl', 'rb'))\n",
    "train_labels = pickle.load(open('./data/train_labels.pkl', 'rb'))\n",
    "\n",
    "print(train_sentences[:10])\n",
    "print(train_labels[:10])\n",
    "print(len(train_sentences))\n",
    "print(len(train_labels))"
   ]
  },
  {
   "cell_type": "markdown",
   "metadata": {},
   "source": [
    "### Preprocessing our data"
   ]
  },
  {
   "cell_type": "code",
   "execution_count": 2,
   "metadata": {},
   "outputs": [
    {
     "name": "stdout",
     "output_type": "stream",
     "text": [
      "(3734, 7701)\n"
     ]
    }
   ],
   "source": [
    "from sklearn.feature_extraction.text import CountVectorizer\n",
    "vectorizer = CountVectorizer()\n",
    "vectorizer.fit(train_sentences)\n",
    "train_data = vectorizer.transform(train_sentences)\n",
    "print(train_data.shape)"
   ]
  },
  {
   "cell_type": "markdown",
   "metadata": {},
   "source": [
    "### Training our model"
   ]
  },
  {
   "cell_type": "code",
   "execution_count": 3,
   "metadata": {},
   "outputs": [
    {
     "data": {
      "text/plain": [
       "RandomForestClassifier()"
      ]
     },
     "execution_count": 3,
     "metadata": {},
     "output_type": "execute_result"
    }
   ],
   "source": [
    "from sklearn.ensemble import RandomForestClassifier\n",
    "model = RandomForestClassifier()\n",
    "model.fit(train_data, train_labels)"
   ]
  },
  {
   "cell_type": "markdown",
   "metadata": {},
   "source": [
    "### Evaluating our model on the training set"
   ]
  },
  {
   "cell_type": "code",
   "execution_count": 4,
   "metadata": {},
   "outputs": [
    {
     "name": "stdout",
     "output_type": "stream",
     "text": [
      "1.0\n"
     ]
    }
   ],
   "source": [
    "print(np.mean(model.predict(train_data) == train_labels))"
   ]
  },
  {
   "cell_type": "markdown",
   "metadata": {},
   "source": [
    "### Splitting between train and validation"
   ]
  },
  {
   "cell_type": "code",
   "execution_count": 5,
   "metadata": {},
   "outputs": [],
   "source": [
    "split_percentage = .85\n",
    "split_threshold = int(split_percentage * len(train_labels))\n",
    "val_sentences = train_sentences[split_threshold:]\n",
    "train_sentences = train_sentences[:split_threshold]\n",
    "val_labels = train_labels[split_threshold:]\n",
    "train_labels = train_labels[:split_threshold]"
   ]
  },
  {
   "cell_type": "markdown",
   "metadata": {},
   "source": [
    "### Redoing the preprocessing using only the vocabulary of the training samples"
   ]
  },
  {
   "cell_type": "code",
   "execution_count": 6,
   "metadata": {},
   "outputs": [],
   "source": [
    "vectorizer = CountVectorizer()\n",
    "vectorizer.fit(train_sentences)\n",
    "train_data = vectorizer.transform(train_sentences)\n",
    "val_data = vectorizer.transform(val_sentences)"
   ]
  },
  {
   "cell_type": "markdown",
   "metadata": {},
   "source": [
    "### Retraining our model and validating it"
   ]
  },
  {
   "cell_type": "code",
   "execution_count": 7,
   "metadata": {},
   "outputs": [
    {
     "name": "stdout",
     "output_type": "stream",
     "text": [
      "1.0\n",
      "0.9518716577540107\n"
     ]
    }
   ],
   "source": [
    "model = RandomForestClassifier()\n",
    "model.fit(train_data, train_labels)\n",
    "print(np.mean(model.predict(train_data) == train_labels))\n",
    "print(np.mean(model.predict(val_data) == val_labels))"
   ]
  },
  {
   "cell_type": "markdown",
   "metadata": {},
   "source": [
    "### Submitting our model"
   ]
  },
  {
   "cell_type": "code",
   "execution_count": 8,
   "metadata": {},
   "outputs": [
    {
     "name": "stdout",
     "output_type": "stream",
     "text": [
      "0.9690217391304348\n"
     ]
    }
   ],
   "source": [
    "test_sentences = pickle.load(open('./data/test_sentences.pkl', 'rb'))\n",
    "test_labels = pickle.load(open('./data/test_labels.pkl', 'rb'))\n",
    "\n",
    "test_data = vectorizer.transform(test_sentences)\n",
    "\n",
    "print(np.mean(model.predict(test_data) == test_labels))"
   ]
  }
 ],
 "metadata": {
  "kernelspec": {
   "display_name": "Python 3",
   "language": "python",
   "name": "python3"
  },
  "language_info": {
   "codemirror_mode": {
    "name": "ipython",
    "version": 3
   },
   "file_extension": ".py",
   "mimetype": "text/x-python",
   "name": "python",
   "nbconvert_exporter": "python",
   "pygments_lexer": "ipython3",
   "version": "3.7.9"
  }
 },
 "nbformat": 4,
 "nbformat_minor": 5
}

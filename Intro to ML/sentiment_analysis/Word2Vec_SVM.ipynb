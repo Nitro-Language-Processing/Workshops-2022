{
 "cells": [
  {
   "cell_type": "markdown",
   "metadata": {},
   "source": [
    "# Sentiment Analysis with Word2Vec and SVM"
   ]
  },
  {
   "cell_type": "markdown",
   "metadata": {},
   "source": [
    "### Loading data"
   ]
  },
  {
   "cell_type": "code",
   "execution_count": 1,
   "metadata": {},
   "outputs": [
    {
     "name": "stdout",
     "output_type": "stream",
     "text": [
      "if you're the type of person who goes on the submarine ride every time you visit disneyland , you're going to love the hunt for red october . \n",
      "you'll also love the film if you enjoy cat and mouse military tactics , or if you're a sean connery or alec baldwin fan , or if you admired director john mctiernan's earlier films , die hard and predator . \n",
      "in fact , the only people likely to be disappointed with the hunt for red october are those who have read the book , since films almost never live up to the novels which inspired them . \n",
      "the hunt for red october is an epic thriller , adapted from tom clancy's best selling novel . \n",
      "set in an era before glasnost , the movie revolves around a top-secret soviet submarine , called the red october . \n",
      "the nuclear sub has a revolutionary propulsion system , which makes the vessel silent and allows it to escape sonar detection . \n",
      "the red october embarks on its maiden voyage under the command of captain marko ramius , played by sean connery . \n",
      "ramius has strict orders just to test the submarine , but he has other ideas . \n",
      "he takes the sub and its crew and disappears into the atlantic ocean . \n",
      "is he planning to start world war iii ? \n",
      "cia analyst jack ryan doesn't think so ; he's convinced that ramius plans to defect to the u . s . ryan , played by alec baldwin , is given three days to prove his theory and find the missing sub . \n",
      "the characters in the hunt for red october are paper thin , but the performances , thankfully , are rock solid . \n",
      "baldwin and connery anchor the film with their customary vigor . \n",
      "sam neil gives a sturdy performance as connery's somber first officer . \n",
      "it's ironic to see neil and connery playing russians , since they are both best known for their roles as british agents , connery as james bond and neil as reilly , \" ace of spies . \" \n",
      "the large cast also includes scott glenn , james earl jones , tim curry , and joss ackland , plus richard jordan as the smooth u . s . national security adviser . \n",
      "the special effects are remarkable , but more than anything , the hunt for red october is distinguished by its water-tight plot . \n",
      "screenwriters larry ferguson and donald stewart have gracefully navigated red october through a story line full of twists and turns . \n",
      "they keep us involved in the action by unveiling plot strands at just the right moment . \n",
      "the movie doesn't get as sweaty or breathless as die hard , because it would rather tell a good story than hit you over the head with non-stop action . \n",
      "the finale is rousing and suspenseful , but essentially , the hunt for red october is a superior potboiler . \n",
      "\n"
     ]
    }
   ],
   "source": [
    "import pickle\n",
    "\n",
    "train_samples = pickle.load(open('./data/train_samples.pkl', 'rb'))\n",
    "train_labels = pickle.load(open('./data/train_labels.pkl', 'rb'))\n",
    "\n",
    "split_percentage = .85\n",
    "split_threshold = int(split_percentage * len(train_labels))\n",
    "val_samples = train_samples[split_threshold:]\n",
    "train_samples = train_samples[:split_threshold]\n",
    "val_labels = train_labels[split_threshold:]\n",
    "train_labels = train_labels[:split_threshold]\n",
    "\n",
    "print(train_samples[0])"
   ]
  },
  {
   "cell_type": "markdown",
   "metadata": {},
   "source": [
    "### Loading the Word2Vec model"
   ]
  },
  {
   "cell_type": "markdown",
   "metadata": {},
   "source": [
    "Download the word2vec model from https://drive.google.com/file/d/0B7XkCwpI5KDYNlNUTTlSS21pQmM/edit?usp=sharing and unzip it in the current directory"
   ]
  },
  {
   "cell_type": "code",
   "execution_count": 2,
   "metadata": {},
   "outputs": [
    {
     "name": "stderr",
     "output_type": "stream",
     "text": [
      "/home/tonio/anaconda3/lib/python3.7/site-packages/requests/__init__.py:91: RequestsDependencyWarning: urllib3 (1.26.7) or chardet (3.0.4) doesn't match a supported version!\n",
      "  RequestsDependencyWarning)\n"
     ]
    }
   ],
   "source": [
    "import gensim\n",
    "model = gensim.models.KeyedVectors.load_word2vec_format('./GoogleNews-vectors-negative300.bin', binary = True)  "
   ]
  },
  {
   "cell_type": "markdown",
   "metadata": {},
   "source": [
    "### Preprocessing our input"
   ]
  },
  {
   "cell_type": "code",
   "execution_count": 3,
   "metadata": {},
   "outputs": [
    {
     "name": "stderr",
     "output_type": "stream",
     "text": [
      "[nltk_data] Downloading package punkt to /home/tonio/nltk_data...\n",
      "[nltk_data]   Package punkt is already up-to-date!\n",
      "/home/tonio/anaconda3/lib/python3.7/site-packages/ipykernel_launcher.py:12: DeprecationWarning: Call to deprecated `word_vec` (Use get_vector instead).\n",
      "  if sys.path[0] == '':\n"
     ]
    }
   ],
   "source": [
    "from nltk.tokenize import sent_tokenize, word_tokenize\n",
    "import nltk\n",
    "nltk.download('punkt')\n",
    "import numpy as np\n",
    "\n",
    "def preprocess(review):\n",
    "    representation = np.zeros(300)\n",
    "    n_words = 0\n",
    "    for sentence in sent_tokenize(review):\n",
    "        for word in word_tokenize(sentence):\n",
    "            try:\n",
    "                representation += model.word_vec(word)\n",
    "                n_words += 1\n",
    "            except:\n",
    "                pass\n",
    "    \n",
    "    return representation / n_words\n",
    "\n",
    "train_data = np.array([preprocess(review) for review in train_samples])\n",
    "val_data = np.array([preprocess(review) for review in val_samples])"
   ]
  },
  {
   "cell_type": "markdown",
   "metadata": {},
   "source": [
    "### Training our model"
   ]
  },
  {
   "cell_type": "code",
   "execution_count": 4,
   "metadata": {},
   "outputs": [
    {
     "name": "stdout",
     "output_type": "stream",
     "text": [
      "0.8207612456747405\n",
      "0.8\n"
     ]
    }
   ],
   "source": [
    "from sklearn.svm import SVC\n",
    "classifier = SVC(kernel = 'rbf')\n",
    "classifier.fit(train_data, train_labels)\n",
    "print(np.mean(classifier.predict(train_data) == train_labels))\n",
    "print(np.mean(classifier.predict(val_data) == val_labels))"
   ]
  },
  {
   "cell_type": "markdown",
   "metadata": {},
   "source": [
    "### Training a second model"
   ]
  },
  {
   "cell_type": "code",
   "execution_count": 5,
   "metadata": {},
   "outputs": [
    {
     "name": "stdout",
     "output_type": "stream",
     "text": [
      "0.7709342560553634\n",
      "0.7843137254901961\n"
     ]
    }
   ],
   "source": [
    "classifier = SVC(kernel = 'linear')\n",
    "classifier.fit(train_data, train_labels)\n",
    "print(np.mean(classifier.predict(train_data) == train_labels))\n",
    "print(np.mean(classifier.predict(val_data) == val_labels))"
   ]
  },
  {
   "cell_type": "markdown",
   "metadata": {},
   "source": [
    "### Submitting the best model"
   ]
  },
  {
   "cell_type": "code",
   "execution_count": 6,
   "metadata": {},
   "outputs": [
    {
     "name": "stderr",
     "output_type": "stream",
     "text": [
      "/home/tonio/anaconda3/lib/python3.7/site-packages/ipykernel_launcher.py:12: DeprecationWarning: Call to deprecated `word_vec` (Use get_vector instead).\n",
      "  if sys.path[0] == '':\n"
     ]
    },
    {
     "name": "stdout",
     "output_type": "stream",
     "text": [
      "0.81\n"
     ]
    }
   ],
   "source": [
    "test_samples = pickle.load(open('./data/test_samples.pkl', 'rb'))\n",
    "test_data = np.array([preprocess(review) for review in test_samples])\n",
    "\n",
    "test_labels = pickle.load(open('./data/test_labels.pkl', 'rb'))\n",
    "\n",
    "classifier = SVC(kernel = 'rbf')\n",
    "classifier.fit(\n",
    "    np.concatenate([train_data, val_data], axis = 0),\n",
    "    np.concatenate([train_labels, val_labels], axis = 0)\n",
    ")\n",
    "\n",
    "print(np.mean(classifier.predict(test_data) == test_labels))"
   ]
  }
 ],
 "metadata": {
  "kernelspec": {
   "display_name": "Python 3",
   "language": "python",
   "name": "python3"
  },
  "language_info": {
   "codemirror_mode": {
    "name": "ipython",
    "version": 3
   },
   "file_extension": ".py",
   "mimetype": "text/x-python",
   "name": "python",
   "nbconvert_exporter": "python",
   "pygments_lexer": "ipython3",
   "version": "3.7.9"
  }
 },
 "nbformat": 4,
 "nbformat_minor": 5
}
